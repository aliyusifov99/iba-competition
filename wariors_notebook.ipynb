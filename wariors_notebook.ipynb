{
 "cells": [
  {
   "cell_type": "code",
   "execution_count": 1,
   "metadata": {},
   "outputs": [],
   "source": [
    "import pandas as pd \n",
    "import numpy as np \n",
    "import matplotlib.pyplot as plt \n",
    "import seaborn as sns"
   ]
  },
  {
   "cell_type": "code",
   "execution_count": 2,
   "metadata": {},
   "outputs": [],
   "source": [
    "df = pd.read_csv('train.csv')"
   ]
  },
  {
   "cell_type": "code",
   "execution_count": 61,
   "metadata": {},
   "outputs": [],
   "source": [
    "from sklearn.ensemble import GradientBoostingClassifier, RandomForestClassifier\n",
    "from catboost import CatBoostClassifier\n",
    "from sklearn.pipeline import Pipeline\n",
    "from sklearn.inspection import permutation_importance\n",
    "from sklearn.compose import ColumnTransformer\n",
    "from sklearn.preprocessing import StandardScaler, OneHotEncoder, LabelEncoder\n",
    "from sklearn.model_selection import StratifiedKFold, GridSearchCV\n",
    "from imblearn.under_sampling import RandomUnderSampler\n",
    "from imblearn.over_sampling import RandomOverSampler\n",
    "from sklearn.impute import SimpleImputer\n",
    "from sklearn.metrics import classification_report, f1_score, confusion_matrix, accuracy_score\n",
    "from sklearn.impute import KNNImputer\n",
    "from collections import Counter\n",
    "from lightgbm import LGBMClassifier\n",
    "from sklearn.linear_model import LogisticRegression\n",
    "from sklearn.naive_bayes import GaussianNB\n",
    "from sklearn.feature_selection import SelectKBest, chi2, SelectFromModel"
   ]
  },
  {
   "cell_type": "code",
   "execution_count": null,
   "metadata": {},
   "outputs": [],
   "source": []
  },
  {
   "cell_type": "code",
   "execution_count": 8,
   "metadata": {},
   "outputs": [],
   "source": [
    "numeric = ['cust_balance', 'campaign', 'contact_duration', 'pdays', 'customer_id',\n",
    "           'previous_contacts', 'cust_age',]\n",
    "\n",
    "categorical = ['marital_status', 'education', 'has_default_loan', 'job_title',\n",
    "               'contact_channel', 'contact_month', 'contact_day',\n",
    "               'has_personal_loan', 'has_mortgage_loan', 'previous_outcome']"
   ]
  },
  {
   "cell_type": "code",
   "execution_count": 14,
   "metadata": {},
   "outputs": [],
   "source": [
    "df[['cust_age','cust_balance']] = df[['cust_age','cust_balance']].astype(str)\n",
    "\n",
    "df['cust_age'] = df['cust_age'].map(lambda df: df.rstrip('/r').rstrip('/'))\n",
    "df['cust_balance']= df['cust_balance'].map(lambda df: df.rstrip('/r').lstrip('/'))\n",
    "\n",
    "df['cust_balance'] = df['cust_balance'].str.extract('(\\d+)', expand=False)\n",
    "df['cust_balance']= df['cust_balance'].astype(float)\n",
    "\n",
    "df['contact_day'] = df['contact_day'].astype(str)\n",
    "\n",
    "df['cust_age'] = df['cust_age'].str.extract('(\\d+)', expand=False)\n",
    "df['cust_age'] = df['cust_age'].astype(float)\n",
    "df['contact_day'] = df['contact_day'].astype(float)"
   ]
  },
  {
   "cell_type": "code",
   "execution_count": 15,
   "metadata": {},
   "outputs": [],
   "source": [
    "X = df[numeric+categorical]\n",
    "y = df['is_subscribed']"
   ]
  },
  {
   "cell_type": "code",
   "execution_count": 16,
   "metadata": {},
   "outputs": [
    {
     "data": {
      "text/plain": [
       "Counter({False: 3693, True: 3693})"
      ]
     },
     "execution_count": 16,
     "metadata": {},
     "output_type": "execute_result"
    }
   ],
   "source": [
    "rus = RandomUnderSampler()\n",
    "X_rus, y_rus = rus.fit_resample(X, y)\n",
    "Counter(y_rus)"
   ]
  },
  {
   "cell_type": "code",
   "execution_count": null,
   "metadata": {},
   "outputs": [],
   "source": []
  },
  {
   "cell_type": "code",
   "execution_count": null,
   "metadata": {},
   "outputs": [],
   "source": []
  },
  {
   "cell_type": "code",
   "execution_count": null,
   "metadata": {},
   "outputs": [],
   "source": []
  },
  {
   "cell_type": "code",
   "execution_count": null,
   "metadata": {},
   "outputs": [],
   "source": [
    "## Catboost\n",
    "sss = StratifiedKFold()\n",
    "f1 = []\n",
    "pipe = Pipeline(steps=[\n",
    "        ('preprocessing', ColumnTransformer(transformers=[\n",
    "            ('numeric', Pipeline(steps=[\n",
    "                ('impute', SimpleImputer(strategy='mean')),\n",
    "                ('scale', StandardScaler())\n",
    "            ]), numeric),\n",
    "            ('categorical', Pipeline(steps=[\n",
    "                ('impute', SimpleImputer(strategy='most_frequent')),\n",
    "                ('ohe', OneHotEncoder())\n",
    "            ]), categorical),\n",
    "        ])),\n",
    "#         ('skb', SelectKBest(chi2, k = 10)),\n",
    "        ('classifier', CatBoostClassifier(od_type='Iter', od_wait=20, \n",
    "                           class_weights=[0.11, 0.89], \n",
    "                           learning_rate=0.08,\n",
    "                           verbose=False, \n",
    "                           depth=12, \n",
    "                           iterations=400,))\n",
    "    ])\n",
    "for train_idx, test_idx in sss.split(X, y):\n",
    "    X_train, X_test = X.iloc[train_idx], X.iloc[test_idx]\n",
    "    y_train, y_test = y.iloc[train_idx], y.iloc[test_idx]\n",
    "    pipe.fit(X_train, y_train)\n",
    "    y_predicted=pipe.predict(X_test)\n",
    "    y_predicted = pd.Series(y_predicted).apply(lambda x: True if x=='True' else False)\n",
    "    f_score = f1_score(y_test, y_predicted)\n",
    "    print(f_score)\n",
    "    f1.append(f_score)\n",
    "\n",
    "print(\"F1\", np.mean(f1))"
   ]
  },
  {
   "cell_type": "code",
   "execution_count": null,
   "metadata": {},
   "outputs": [],
   "source": []
  },
  {
   "cell_type": "code",
   "execution_count": null,
   "metadata": {},
   "outputs": [],
   "source": []
  },
  {
   "cell_type": "code",
   "execution_count": null,
   "metadata": {},
   "outputs": [],
   "source": []
  },
  {
   "cell_type": "code",
   "execution_count": 58,
   "metadata": {},
   "outputs": [
    {
     "data": {
      "image/png": "[encoded data removed]",
      "text/plain": [
       "<Figure size 432x288 with 1 Axes>"
      ]
     },
     "metadata": {
      "needs_background": "light"
     },
     "output_type": "display_data"
    }
   ],
   "source": [
    "# ohe = (pipe.named_steps['preprocess']\n",
    "#          .named_transformers_['cat'])\n",
    "# feature_names = ohe.get_feature_names(input_features=categorical)\n",
    "# feature_names = np.r_[feature_names, numeric]\n",
    "\n",
    "# tree_feature_importances = (\n",
    "#     pipe.named_steps['classifier'].feature_importances_)\n",
    "# sorted_idx = tree_feature_importances.argsort()\n",
    "\n",
    "# y_ticks = np.arange(0, len(feature_names))\n",
    "# fig, ax = plt.subplots()\n",
    "# ax.barh(y_ticks, tree_feature_importances[sorted_idx])\n",
    "# ax.set_yticks(y_ticks)\n",
    "# ax.set_yticklabels(feature_names[sorted_idx])\n",
    "# ax.set_title(\"Random Forest Feature Importances (MDI)\")\n",
    "# fig.tight_layout()\n",
    "# plt.show()\n",
    "\n",
    "\n",
    "result = permutation_importance(pipe, X_test, y_test.astype(str), n_repeats=10,\n",
    "                                random_state=42, n_jobs=2)\n",
    "sorted_idx = result.importances_mean.argsort()\n",
    "\n",
    "fig, ax = plt.subplots()\n",
    "ax.boxplot(result.importances[sorted_idx].T,\n",
    "           vert=False, labels=X_test.columns[sorted_idx])\n",
    "ax.set_title(\"Permutation Importances (test set)\")\n",
    "fig.tight_layout()\n",
    "plt.show()"
   ]
  },
  {
   "cell_type": "code",
   "execution_count": null,
   "metadata": {},
   "outputs": [],
   "source": []
  },
  {
   "cell_type": "code",
   "execution_count": null,
   "metadata": {},
   "outputs": [],
   "source": []
  },
  {
   "cell_type": "code",
   "execution_count": null,
   "metadata": {},
   "outputs": [],
   "source": [
    "0.07 "
   ]
  },
  {
   "cell_type": "code",
   "execution_count": null,
   "metadata": {},
   "outputs": [],
   "source": []
  },
  {
   "cell_type": "code",
   "execution_count": 20,
   "metadata": {},
   "outputs": [
    {
     "name": "stdout",
     "output_type": "stream",
     "text": [
      "0.8754034861200775\n",
      "0.8763297872340426\n",
      "0.8888888888888888\n",
      "0.8906148867313917\n",
      "0.8787684413085309\n",
      "0.8820010980565863\n"
     ]
    }
   ],
   "source": [
    "## Catboost\n",
    "sss = StratifiedKFold()\n",
    "f1 = []\n",
    "pipe = Pipeline(steps=[\n",
    "        ('preprocessing', ColumnTransformer(transformers=[\n",
    "            ('numeric', Pipeline(steps=[\n",
    "                ('impute', SimpleImputer(strategy='mean')),\n",
    "                ('scale', StandardScaler())\n",
    "            ]), numeric),\n",
    "            ('categorical', Pipeline(steps=[\n",
    "                ('impute', SimpleImputer(strategy='most_frequent')),\n",
    "                ('ohe', OneHotEncoder())\n",
    "            ]), categorical),\n",
    "        ])),\n",
    "        ('classifier', RandomForestClassifier())\n",
    "    ])\n",
    "for train_idx, test_idx in sss.split(X_rus, y_rus):\n",
    "    X_train, X_test = X_rus.iloc[train_idx], X_rus.iloc[test_idx]\n",
    "    y_train, y_test = y_rus.iloc[train_idx], y_rus.iloc[test_idx]\n",
    "    pipe.fit(X_train, y_train)\n",
    "    y_predicted=pipe.predict(X_test)\n",
    "#     y_predicted = pd.Series(y_predicted).apply(lambda x: True if x=='True' else False)\n",
    "    f_score = f1_score(y_test, y_predicted)\n",
    "    print(f_score)\n",
    "    f1.append(f_score)\n",
    "\n",
    "print(np.mean(f1))"
   ]
  },
  {
   "cell_type": "code",
   "execution_count": null,
   "metadata": {},
   "outputs": [],
   "source": []
  },
  {
   "cell_type": "code",
   "execution_count": null,
   "metadata": {},
   "outputs": [],
   "source": []
  },
  {
   "cell_type": "code",
   "execution_count": null,
   "metadata": {},
   "outputs": [],
   "source": []
  },
  {
   "cell_type": "code",
   "execution_count": 21,
   "metadata": {},
   "outputs": [],
   "source": [
    "test_df = pd.read_csv('test.csv')"
   ]
  },
  {
   "cell_type": "code",
   "execution_count": 22,
   "metadata": {},
   "outputs": [],
   "source": [
    "test_df[['cust_age','cust_balance']] = test_df[['cust_age','cust_balance']].astype(str)\n",
    "\n",
    "test_df['cust_age'] = test_df['cust_age'].map(lambda test_df: test_df.rstrip('/r').rstrip('/'))\n",
    "test_df['cust_balance']= test_df['cust_balance'].map(lambda test_df: test_df.rstrip('/r').lstrip('/'))\n",
    "\n",
    "test_df['cust_balance'] = test_df['cust_balance'].str.extract('(\\d+)', expand=False)\n",
    "test_df['cust_balance']= test_df['cust_balance'].astype(float)\n",
    "\n",
    "test_df['cust_age'] = test_df['cust_age'].str.extract('(\\d+)', expand=False)"
   ]
  },
  {
   "cell_type": "code",
   "execution_count": null,
   "metadata": {},
   "outputs": [],
   "source": []
  },
  {
   "cell_type": "code",
   "execution_count": 23,
   "metadata": {},
   "outputs": [],
   "source": [
    "testX = test_df[numeric+categorical]"
   ]
  },
  {
   "cell_type": "code",
   "execution_count": 47,
   "metadata": {
    "scrolled": true
   },
   "outputs": [],
   "source": [
    "result = pipe.predict(testX)\n",
    "result = pd.Series(result).apply(lambda x: True if x=='True' else False)"
   ]
  },
  {
   "cell_type": "code",
   "execution_count": 48,
   "metadata": {},
   "outputs": [],
   "source": [
    "submission = pd.read_csv('sample_submission.csv')"
   ]
  },
  {
   "cell_type": "code",
   "execution_count": 49,
   "metadata": {},
   "outputs": [],
   "source": [
    "submission['is_subscribed'] = result"
   ]
  },
  {
   "cell_type": "code",
   "execution_count": 50,
   "metadata": {},
   "outputs": [],
   "source": [
    "submission.to_csv('submissions/elshan/submission_elshan_15.csv', index=False)"
   ]
  },
  {
   "cell_type": "code",
   "execution_count": null,
   "metadata": {},
   "outputs": [],
   "source": []
  }
 ],
 "metadata": {
  "kernelspec": {
   "display_name": "Python 3",
   "language": "python",
   "name": "python3"
  },
  "language_info": {
   "codemirror_mode": {
    "name": "ipython",
    "version": 3
   },
   "file_extension": ".py",
   "mimetype": "text/x-python",
   "name": "python",
   "nbconvert_exporter": "python",
   "pygments_lexer": "ipython3",
   "version": "3.8.5"
  }
 },
 "nbformat": 4,
 "nbformat_minor": 4
}
