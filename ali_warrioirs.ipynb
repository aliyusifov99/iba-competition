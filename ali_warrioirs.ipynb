{
 "metadata": {
  "language_info": {
   "codemirror_mode": {
    "name": "ipython",
    "version": 3
   },
   "file_extension": ".py",
   "mimetype": "text/x-python",
   "name": "python",
   "nbconvert_exporter": "python",
   "pygments_lexer": "ipython3",
   "version": "3.9.5"
  },
  "orig_nbformat": 4,
  "kernelspec": {
   "name": "python3",
   "display_name": "Python 3.9.5 64-bit ('main': conda)"
  },
  "interpreter": {
   "hash": "d7206e2aaaf1ca2cf41e23d64f86a059524a0c49354754d4fb04a9c9f770af3f"
  }
 },
 "nbformat": 4,
 "nbformat_minor": 2,
 "cells": [
  {
   "cell_type": "code",
   "execution_count": 111,
   "metadata": {},
   "outputs": [],
   "source": [
    "import pandas as pd \n",
    "import numpy as np \n",
    "import matplotlib.pyplot as plt "
   ]
  },
  {
   "cell_type": "code",
   "execution_count": 112,
   "metadata": {},
   "outputs": [],
   "source": [
    "test_data=pd.read_csv('test.csv')\n",
    "train_data=pd.read_csv('train.csv')"
   ]
  },
  {
   "cell_type": "code",
   "execution_count": 113,
   "metadata": {},
   "outputs": [],
   "source": [
    "X=train_data[['cust_age', 'job_title', 'marital_status', 'education',\n",
    "       'has_default_loan', 'cust_balance', 'has_mortgage_loan',\n",
    "       'has_personal_loan', 'contact_channel', 'contact_day', 'contact_month',\n",
    "       'contact_duration', 'campaign', 'pdays', 'previous_contacts',\n",
    "       'previous_outcome']]\n",
    "y=train_data['is_subscribed']"
   ]
  },
  {
   "cell_type": "code",
   "execution_count": 114,
   "metadata": {},
   "outputs": [
    {
     "output_type": "execute_result",
     "data": {
      "text/plain": [
       "       customer_id cust_age    job_title marital_status          education  \\\n",
       "0            11218     48.0  blue-collar         single                NaN   \n",
       "1            30655     60.0    pensioner        married          secondary   \n",
       "2            24190     34.0  blue-collar        married          secondary   \n",
       "3            26270     50.0      manager        married  university-degree   \n",
       "4            20989     60.0      manager        married  university-degree   \n",
       "...            ...      ...          ...            ...                ...   \n",
       "31642        13734     26.0  blue-collar         single            primary   \n",
       "31643        49179     38.0      manager         single  university-degree   \n",
       "31644        49350     29.0      manager         single  university-degree   \n",
       "31645        38104     40.0   site-admin       divorced          secondary   \n",
       "31646        28193     27.0      servant         single          secondary   \n",
       "\n",
       "      has_default_loan cust_balance has_mortgage_loan has_personal_loan  \\\n",
       "0                   no         71.0               yes                no   \n",
       "1                   no        781.0               yes               yes   \n",
       "2                   no        157.0               yes                no   \n",
       "3                   no         29.0                no               yes   \n",
       "4                   no       3301.0                no                no   \n",
       "...                ...          ...               ...               ...   \n",
       "31642               no        102.0               yes                no   \n",
       "31643               no       2368.0               yes                no   \n",
       "31644               no        722.0               yes                no   \n",
       "31645               no        399.0                no                no   \n",
       "31646              yes       -319.0                no               yes   \n",
       "\n",
       "      contact_channel  contact_day contact_month  contact_duration  campaign  \\\n",
       "0                 NaN            8           may               101         2   \n",
       "1      social-network           12           aug               128         5   \n",
       "2      social-network           11           jul               254         2   \n",
       "3                 NaN           23           jul               104         1   \n",
       "4                 NaN           17           jun              2621         3   \n",
       "...               ...          ...           ...               ...       ...   \n",
       "31642             NaN           16           may                46         1   \n",
       "31643  social-network           18           may               241         3   \n",
       "31644       telephone           18           may                81         4   \n",
       "31645  social-network           28           jan               246         2   \n",
       "31646  social-network           30           jul                89         2   \n",
       "\n",
       "       pdays  previous_contacts previous_outcome  is_subscribed  \n",
       "0         -1                  0              NaN          False  \n",
       "1         -1                  0              NaN          False  \n",
       "2         -1                  0              NaN          False  \n",
       "3         -1                  0              NaN          False  \n",
       "4         -1                  0              NaN           True  \n",
       "...      ...                ...              ...            ...  \n",
       "31642     -1                  0              NaN          False  \n",
       "31643     -1                  0              NaN          False  \n",
       "31644     -1                  0              NaN          False  \n",
       "31645     -1                  0              NaN          False  \n",
       "31646     -1                  0              NaN          False  \n",
       "\n",
       "[31647 rows x 18 columns]"
      ],
      "text/html": "<div>\n<style scoped>\n    .dataframe tbody tr th:only-of-type {\n        vertical-align: middle;\n    }\n\n    .dataframe tbody tr th {\n        vertical-align: top;\n    }\n\n    .dataframe thead th {\n        text-align: right;\n    }\n</style>\n<table border=\"1\" class=\"dataframe\">\n  <thead>\n    <tr style=\"text-align: right;\">\n      <th></th>\n      <th>customer_id</th>\n      <th>cust_age</th>\n      <th>job_title</th>\n      <th>marital_status</th>\n      <th>education</th>\n      <th>has_default_loan</th>\n      <th>cust_balance</th>\n      <th>has_mortgage_loan</th>\n      <th>has_personal_loan</th>\n      <th>contact_channel</th>\n      <th>contact_day</th>\n      <th>contact_month</th>\n      <th>contact_duration</th>\n      <th>campaign</th>\n      <th>pdays</th>\n      <th>previous_contacts</th>\n      <th>previous_outcome</th>\n      <th>is_subscribed</th>\n    </tr>\n  </thead>\n  <tbody>\n    <tr>\n      <th>0</th>\n      <td>11218</td>\n      <td>48.0</td>\n      <td>blue-collar</td>\n      <td>single</td>\n      <td>NaN</td>\n      <td>no</td>\n      <td>71.0</td>\n      <td>yes</td>\n      <td>no</td>\n      <td>NaN</td>\n      <td>8</td>\n      <td>may</td>\n      <td>101</td>\n      <td>2</td>\n      <td>-1</td>\n      <td>0</td>\n      <td>NaN</td>\n      <td>False</td>\n    </tr>\n    <tr>\n      <th>1</th>\n      <td>30655</td>\n      <td>60.0</td>\n      <td>pensioner</td>\n      <td>married</td>\n      <td>secondary</td>\n      <td>no</td>\n      <td>781.0</td>\n      <td>yes</td>\n      <td>yes</td>\n      <td>social-network</td>\n      <td>12</td>\n      <td>aug</td>\n      <td>128</td>\n      <td>5</td>\n      <td>-1</td>\n      <td>0</td>\n      <td>NaN</td>\n      <td>False</td>\n    </tr>\n    <tr>\n      <th>2</th>\n      <td>24190</td>\n      <td>34.0</td>\n      <td>blue-collar</td>\n      <td>married</td>\n      <td>secondary</td>\n      <td>no</td>\n      <td>157.0</td>\n      <td>yes</td>\n      <td>no</td>\n      <td>social-network</td>\n      <td>11</td>\n      <td>jul</td>\n      <td>254</td>\n      <td>2</td>\n      <td>-1</td>\n      <td>0</td>\n      <td>NaN</td>\n      <td>False</td>\n    </tr>\n    <tr>\n      <th>3</th>\n      <td>26270</td>\n      <td>50.0</td>\n      <td>manager</td>\n      <td>married</td>\n      <td>university-degree</td>\n      <td>no</td>\n      <td>29.0</td>\n      <td>no</td>\n      <td>yes</td>\n      <td>NaN</td>\n      <td>23</td>\n      <td>jul</td>\n      <td>104</td>\n      <td>1</td>\n      <td>-1</td>\n      <td>0</td>\n      <td>NaN</td>\n      <td>False</td>\n    </tr>\n    <tr>\n      <th>4</th>\n      <td>20989</td>\n      <td>60.0</td>\n      <td>manager</td>\n      <td>married</td>\n      <td>university-degree</td>\n      <td>no</td>\n      <td>3301.0</td>\n      <td>no</td>\n      <td>no</td>\n      <td>NaN</td>\n      <td>17</td>\n      <td>jun</td>\n      <td>2621</td>\n      <td>3</td>\n      <td>-1</td>\n      <td>0</td>\n      <td>NaN</td>\n      <td>True</td>\n    </tr>\n    <tr>\n      <th>...</th>\n      <td>...</td>\n      <td>...</td>\n      <td>...</td>\n      <td>...</td>\n      <td>...</td>\n      <td>...</td>\n      <td>...</td>\n      <td>...</td>\n      <td>...</td>\n      <td>...</td>\n      <td>...</td>\n      <td>...</td>\n      <td>...</td>\n      <td>...</td>\n      <td>...</td>\n      <td>...</td>\n      <td>...</td>\n      <td>...</td>\n    </tr>\n    <tr>\n      <th>31642</th>\n      <td>13734</td>\n      <td>26.0</td>\n      <td>blue-collar</td>\n      <td>single</td>\n      <td>primary</td>\n      <td>no</td>\n      <td>102.0</td>\n      <td>yes</td>\n      <td>no</td>\n      <td>NaN</td>\n      <td>16</td>\n      <td>may</td>\n      <td>46</td>\n      <td>1</td>\n      <td>-1</td>\n      <td>0</td>\n      <td>NaN</td>\n      <td>False</td>\n    </tr>\n    <tr>\n      <th>31643</th>\n      <td>49179</td>\n      <td>38.0</td>\n      <td>manager</td>\n      <td>single</td>\n      <td>university-degree</td>\n      <td>no</td>\n      <td>2368.0</td>\n      <td>yes</td>\n      <td>no</td>\n      <td>social-network</td>\n      <td>18</td>\n      <td>may</td>\n      <td>241</td>\n      <td>3</td>\n      <td>-1</td>\n      <td>0</td>\n      <td>NaN</td>\n      <td>False</td>\n    </tr>\n    <tr>\n      <th>31644</th>\n      <td>49350</td>\n      <td>29.0</td>\n      <td>manager</td>\n      <td>single</td>\n      <td>university-degree</td>\n      <td>no</td>\n      <td>722.0</td>\n      <td>yes</td>\n      <td>no</td>\n      <td>telephone</td>\n      <td>18</td>\n      <td>may</td>\n      <td>81</td>\n      <td>4</td>\n      <td>-1</td>\n      <td>0</td>\n      <td>NaN</td>\n      <td>False</td>\n    </tr>\n    <tr>\n      <th>31645</th>\n      <td>38104</td>\n      <td>40.0</td>\n      <td>site-admin</td>\n      <td>divorced</td>\n      <td>secondary</td>\n      <td>no</td>\n      <td>399.0</td>\n      <td>no</td>\n      <td>no</td>\n      <td>social-network</td>\n      <td>28</td>\n      <td>jan</td>\n      <td>246</td>\n      <td>2</td>\n      <td>-1</td>\n      <td>0</td>\n      <td>NaN</td>\n      <td>False</td>\n    </tr>\n    <tr>\n      <th>31646</th>\n      <td>28193</td>\n      <td>27.0</td>\n      <td>servant</td>\n      <td>single</td>\n      <td>secondary</td>\n      <td>yes</td>\n      <td>-319.0</td>\n      <td>no</td>\n      <td>yes</td>\n      <td>social-network</td>\n      <td>30</td>\n      <td>jul</td>\n      <td>89</td>\n      <td>2</td>\n      <td>-1</td>\n      <td>0</td>\n      <td>NaN</td>\n      <td>False</td>\n    </tr>\n  </tbody>\n</table>\n<p>31647 rows × 18 columns</p>\n</div>"
     },
     "metadata": {},
     "execution_count": 114
    }
   ],
   "source": [
    "train_data"
   ]
  },
  {
   "cell_type": "code",
   "execution_count": 115,
   "metadata": {},
   "outputs": [
    {
     "output_type": "execute_result",
     "data": {
      "text/plain": [
       "customer_id           int64\n",
       "cust_age             object\n",
       "job_title            object\n",
       "marital_status       object\n",
       "education            object\n",
       "has_default_loan     object\n",
       "cust_balance         object\n",
       "has_mortgage_loan    object\n",
       "has_personal_loan    object\n",
       "contact_channel      object\n",
       "contact_day           int64\n",
       "contact_month        object\n",
       "contact_duration      int64\n",
       "campaign              int64\n",
       "pdays                 int64\n",
       "previous_contacts     int64\n",
       "previous_outcome     object\n",
       "is_subscribed          bool\n",
       "dtype: object"
      ]
     },
     "metadata": {},
     "execution_count": 115
    }
   ],
   "source": [
    "train_data.dtypes"
   ]
  },
  {
   "cell_type": "code",
   "execution_count": 116,
   "metadata": {},
   "outputs": [
    {
     "output_type": "stream",
     "name": "stderr",
     "text": [
      "/home/aliyusifov/miniconda3/envs/main/lib/python3.9/site-packages/pandas/core/frame.py:3191: SettingWithCopyWarning: \nA value is trying to be set on a copy of a slice from a DataFrame.\nTry using .loc[row_indexer,col_indexer] = value instead\n\nSee the caveats in the documentation: https://pandas.pydata.org/pandas-docs/stable/user_guide/indexing.html#returning-a-view-versus-a-copy\n  self[k1] = value[k2]\n"
     ]
    }
   ],
   "source": [
    "X[['cust_age','cust_balance']] = X[['cust_age','cust_balance']].astype(str)\n"
   ]
  },
  {
   "cell_type": "code",
   "execution_count": 117,
   "metadata": {},
   "outputs": [
    {
     "output_type": "stream",
     "name": "stderr",
     "text": [
      "<ipython-input-117-0ede77350349>:1: SettingWithCopyWarning: \nA value is trying to be set on a copy of a slice from a DataFrame.\nTry using .loc[row_indexer,col_indexer] = value instead\n\nSee the caveats in the documentation: https://pandas.pydata.org/pandas-docs/stable/user_guide/indexing.html#returning-a-view-versus-a-copy\n  X['cust_age'] = X['cust_age'].map(lambda x: x.rstrip('/r').rstrip('/'))\n<ipython-input-117-0ede77350349>:2: SettingWithCopyWarning: \nA value is trying to be set on a copy of a slice from a DataFrame.\nTry using .loc[row_indexer,col_indexer] = value instead\n\nSee the caveats in the documentation: https://pandas.pydata.org/pandas-docs/stable/user_guide/indexing.html#returning-a-view-versus-a-copy\n  X['cust_balance']= X['cust_balance'].map(lambda x: x.rstrip('/r').lstrip('/'))\n"
     ]
    }
   ],
   "source": [
    "X['cust_age'] = X['cust_age'].map(lambda x: x.rstrip('/r').rstrip('/'))\n",
    "X['cust_balance']= X['cust_balance'].map(lambda x: x.rstrip('/r').lstrip('/'))\n",
    "\n"
   ]
  },
  {
   "cell_type": "code",
   "execution_count": 118,
   "metadata": {},
   "outputs": [
    {
     "output_type": "stream",
     "name": "stderr",
     "text": [
      "<ipython-input-118-37f7b1898fc7>:2: SettingWithCopyWarning: \nA value is trying to be set on a copy of a slice from a DataFrame.\nTry using .loc[row_indexer,col_indexer] = value instead\n\nSee the caveats in the documentation: https://pandas.pydata.org/pandas-docs/stable/user_guide/indexing.html#returning-a-view-versus-a-copy\n  X[\"cust_age\"] = pd.to_numeric(X[\"cust_age\"], errors='coerce')\n<ipython-input-118-37f7b1898fc7>:3: SettingWithCopyWarning: \nA value is trying to be set on a copy of a slice from a DataFrame.\nTry using .loc[row_indexer,col_indexer] = value instead\n\nSee the caveats in the documentation: https://pandas.pydata.org/pandas-docs/stable/user_guide/indexing.html#returning-a-view-versus-a-copy\n  X[\"cust_balance\"] = pd.to_numeric(X[\"cust_balance\"], errors='coerce')\n"
     ]
    }
   ],
   "source": [
    "#converting cust_age and cust_balance columns to float\n",
    "X[\"cust_age\"] = pd.to_numeric(X[\"cust_age\"], errors='coerce')\n",
    "X[\"cust_balance\"] = pd.to_numeric(X[\"cust_balance\"], errors='coerce')\n",
    "\n"
   ]
  },
  {
   "source": [
    "Preprocessing data"
   ],
   "cell_type": "markdown",
   "metadata": {}
  },
  {
   "cell_type": "code",
   "execution_count": 119,
   "metadata": {},
   "outputs": [
    {
     "output_type": "execute_result",
     "data": {
      "text/plain": [
       "cust_age               344\n",
       "job_title              204\n",
       "marital_status           0\n",
       "education             1325\n",
       "has_default_loan         0\n",
       "cust_balance           440\n",
       "has_mortgage_loan        0\n",
       "has_personal_loan        0\n",
       "contact_channel       9151\n",
       "contact_day              0\n",
       "contact_month            0\n",
       "contact_duration         0\n",
       "campaign                 0\n",
       "pdays                    0\n",
       "previous_contacts        0\n",
       "previous_outcome     25889\n",
       "dtype: int64"
      ]
     },
     "metadata": {},
     "execution_count": 119
    }
   ],
   "source": [
    "#Checking null valeus\n",
    "X.isnull().sum()"
   ]
  },
  {
   "cell_type": "code",
   "execution_count": 120,
   "metadata": {},
   "outputs": [
    {
     "output_type": "execute_result",
     "data": {
      "text/plain": [
       "Index(['cust_age', 'job_title', 'marital_status', 'education',\n",
       "       'has_default_loan', 'cust_balance', 'has_mortgage_loan',\n",
       "       'has_personal_loan', 'contact_channel', 'contact_day', 'contact_month',\n",
       "       'contact_duration', 'campaign', 'pdays', 'previous_contacts',\n",
       "       'previous_outcome'],\n",
       "      dtype='object')"
      ]
     },
     "metadata": {},
     "execution_count": 120
    }
   ],
   "source": [
    "X.columns"
   ]
  },
  {
   "cell_type": "code",
   "execution_count": 121,
   "metadata": {},
   "outputs": [
    {
     "output_type": "stream",
     "name": "stderr",
     "text": [
      "<ipython-input-121-faf443ae5815>:4: SettingWithCopyWarning: \nA value is trying to be set on a copy of a slice from a DataFrame.\nTry using .loc[row_indexer,col_indexer] = value instead\n\nSee the caveats in the documentation: https://pandas.pydata.org/pandas-docs/stable/user_guide/indexing.html#returning-a-view-versus-a-copy\n  X[['cust_age','cust_balance']]=num_imputer.fit_transform(X[['cust_age','cust_balance']])\n/home/aliyusifov/miniconda3/envs/main/lib/python3.9/site-packages/pandas/core/indexing.py:1738: SettingWithCopyWarning: \nA value is trying to be set on a copy of a slice from a DataFrame.\nTry using .loc[row_indexer,col_indexer] = value instead\n\nSee the caveats in the documentation: https://pandas.pydata.org/pandas-docs/stable/user_guide/indexing.html#returning-a-view-versus-a-copy\n  self._setitem_single_column(loc, value[:, i].tolist(), pi)\n"
     ]
    }
   ],
   "source": [
    "#imputatio for numerical values\n",
    "from sklearn.impute import SimpleImputer\n",
    "num_imputer=SimpleImputer(missing_values=np.nan, strategy='mean')\n",
    "X[['cust_age','cust_balance']]=num_imputer.fit_transform(X[['cust_age','cust_balance']])"
   ]
  },
  {
   "cell_type": "code",
   "execution_count": 122,
   "metadata": {},
   "outputs": [
    {
     "output_type": "execute_result",
     "data": {
      "text/plain": [
       "cust_age                 0\n",
       "job_title              204\n",
       "marital_status           0\n",
       "education             1325\n",
       "has_default_loan         0\n",
       "cust_balance             0\n",
       "has_mortgage_loan        0\n",
       "has_personal_loan        0\n",
       "contact_channel       9151\n",
       "contact_day              0\n",
       "contact_month            0\n",
       "contact_duration         0\n",
       "campaign                 0\n",
       "pdays                    0\n",
       "previous_contacts        0\n",
       "previous_outcome     25889\n",
       "dtype: int64"
      ]
     },
     "metadata": {},
     "execution_count": 122
    }
   ],
   "source": [
    "X.isnull().sum()\n"
   ]
  },
  {
   "cell_type": "code",
   "execution_count": 123,
   "metadata": {},
   "outputs": [
    {
     "output_type": "stream",
     "name": "stderr",
     "text": [
      "<ipython-input-123-b27e7daea21f>:2: SettingWithCopyWarning: \nA value is trying to be set on a copy of a slice from a DataFrame.\nTry using .loc[row_indexer,col_indexer] = value instead\n\nSee the caveats in the documentation: https://pandas.pydata.org/pandas-docs/stable/user_guide/indexing.html#returning-a-view-versus-a-copy\n  X[['job_title', 'education', 'contact_channel', 'previous_outcome']]=cat_imputer.fit_transform(X[['job_title', 'education', 'contact_channel', 'previous_outcome']])\n/home/aliyusifov/miniconda3/envs/main/lib/python3.9/site-packages/pandas/core/indexing.py:1738: SettingWithCopyWarning: \nA value is trying to be set on a copy of a slice from a DataFrame.\nTry using .loc[row_indexer,col_indexer] = value instead\n\nSee the caveats in the documentation: https://pandas.pydata.org/pandas-docs/stable/user_guide/indexing.html#returning-a-view-versus-a-copy\n  self._setitem_single_column(loc, value[:, i].tolist(), pi)\n"
     ]
    }
   ],
   "source": [
    "cat_imputer=SimpleImputer(missing_values=np.nan, strategy='most_frequent')\n",
    "X[['job_title', 'education', 'contact_channel', 'previous_outcome']]=cat_imputer.fit_transform(X[['job_title', 'education', 'contact_channel', 'previous_outcome']])"
   ]
  },
  {
   "cell_type": "code",
   "execution_count": 124,
   "metadata": {},
   "outputs": [
    {
     "output_type": "execute_result",
     "data": {
      "text/plain": [
       "cust_age             0\n",
       "job_title            0\n",
       "marital_status       0\n",
       "education            0\n",
       "has_default_loan     0\n",
       "cust_balance         0\n",
       "has_mortgage_loan    0\n",
       "has_personal_loan    0\n",
       "contact_channel      0\n",
       "contact_day          0\n",
       "contact_month        0\n",
       "contact_duration     0\n",
       "campaign             0\n",
       "pdays                0\n",
       "previous_contacts    0\n",
       "previous_outcome     0\n",
       "dtype: int64"
      ]
     },
     "metadata": {},
     "execution_count": 124
    }
   ],
   "source": [
    "X.isnull().sum()"
   ]
  },
  {
   "cell_type": "code",
   "execution_count": 125,
   "metadata": {},
   "outputs": [
    {
     "output_type": "stream",
     "name": "stderr",
     "text": [
      "<ipython-input-125-1be032bebeb7>:4: SettingWithCopyWarning: \n",
      "A value is trying to be set on a copy of a slice from a DataFrame.\n",
      "Try using .loc[row_indexer,col_indexer] = value instead\n",
      "\n",
      "See the caveats in the documentation: https://pandas.pydata.org/pandas-docs/stable/user_guide/indexing.html#returning-a-view-versus-a-copy\n",
      "  X['job_title']=encoder.fit_transform(X['job_title'])\n",
      "<ipython-input-125-1be032bebeb7>:5: SettingWithCopyWarning: \n",
      "A value is trying to be set on a copy of a slice from a DataFrame.\n",
      "Try using .loc[row_indexer,col_indexer] = value instead\n",
      "\n",
      "See the caveats in the documentation: https://pandas.pydata.org/pandas-docs/stable/user_guide/indexing.html#returning-a-view-versus-a-copy\n",
      "  X['marital_status']=encoder.fit_transform(X['marital_status'])\n",
      "<ipython-input-125-1be032bebeb7>:6: SettingWithCopyWarning: \n",
      "A value is trying to be set on a copy of a slice from a DataFrame.\n",
      "Try using .loc[row_indexer,col_indexer] = value instead\n",
      "\n",
      "See the caveats in the documentation: https://pandas.pydata.org/pandas-docs/stable/user_guide/indexing.html#returning-a-view-versus-a-copy\n",
      "  X['education']=encoder.fit_transform(X['education'])\n",
      "<ipython-input-125-1be032bebeb7>:7: SettingWithCopyWarning: \n",
      "A value is trying to be set on a copy of a slice from a DataFrame.\n",
      "Try using .loc[row_indexer,col_indexer] = value instead\n",
      "\n",
      "See the caveats in the documentation: https://pandas.pydata.org/pandas-docs/stable/user_guide/indexing.html#returning-a-view-versus-a-copy\n",
      "  X['has_default_loan']=encoder.fit_transform(X['has_default_loan'])\n",
      "<ipython-input-125-1be032bebeb7>:8: SettingWithCopyWarning: \n",
      "A value is trying to be set on a copy of a slice from a DataFrame.\n",
      "Try using .loc[row_indexer,col_indexer] = value instead\n",
      "\n",
      "See the caveats in the documentation: https://pandas.pydata.org/pandas-docs/stable/user_guide/indexing.html#returning-a-view-versus-a-copy\n",
      "  X['has_mortgage_loan']=encoder.fit_transform(X['has_mortgage_loan'])\n",
      "<ipython-input-125-1be032bebeb7>:9: SettingWithCopyWarning: \n",
      "A value is trying to be set on a copy of a slice from a DataFrame.\n",
      "Try using .loc[row_indexer,col_indexer] = value instead\n",
      "\n",
      "See the caveats in the documentation: https://pandas.pydata.org/pandas-docs/stable/user_guide/indexing.html#returning-a-view-versus-a-copy\n",
      "  X['has_personal_loan']=encoder.fit_transform(X['has_personal_loan'])\n",
      "<ipython-input-125-1be032bebeb7>:10: SettingWithCopyWarning: \n",
      "A value is trying to be set on a copy of a slice from a DataFrame.\n",
      "Try using .loc[row_indexer,col_indexer] = value instead\n",
      "\n",
      "See the caveats in the documentation: https://pandas.pydata.org/pandas-docs/stable/user_guide/indexing.html#returning-a-view-versus-a-copy\n",
      "  X['contact_channel']=encoder.fit_transform(X['contact_channel'])\n",
      "<ipython-input-125-1be032bebeb7>:11: SettingWithCopyWarning: \n",
      "A value is trying to be set on a copy of a slice from a DataFrame.\n",
      "Try using .loc[row_indexer,col_indexer] = value instead\n",
      "\n",
      "See the caveats in the documentation: https://pandas.pydata.org/pandas-docs/stable/user_guide/indexing.html#returning-a-view-versus-a-copy\n",
      "  X['contact_month']=encoder.fit_transform(X['contact_month'])\n",
      "<ipython-input-125-1be032bebeb7>:12: SettingWithCopyWarning: \n",
      "A value is trying to be set on a copy of a slice from a DataFrame.\n",
      "Try using .loc[row_indexer,col_indexer] = value instead\n",
      "\n",
      "See the caveats in the documentation: https://pandas.pydata.org/pandas-docs/stable/user_guide/indexing.html#returning-a-view-versus-a-copy\n",
      "  X['previous_outcome']=encoder.fit_transform(X['previous_outcome'])\n"
     ]
    }
   ],
   "source": [
    "#encoding independent values\n",
    "from sklearn.preprocessing import LabelEncoder\n",
    "encoder=LabelEncoder()\n",
    "X['job_title']=encoder.fit_transform(X['job_title'])\n",
    "X['marital_status']=encoder.fit_transform(X['marital_status'])\n",
    "X['education']=encoder.fit_transform(X['education'])\n",
    "X['has_default_loan']=encoder.fit_transform(X['has_default_loan'])\n",
    "X['has_mortgage_loan']=encoder.fit_transform(X['has_mortgage_loan'])\n",
    "X['has_personal_loan']=encoder.fit_transform(X['has_personal_loan'])\n",
    "X['contact_channel']=encoder.fit_transform(X['contact_channel'])\n",
    "X['contact_month']=encoder.fit_transform(X['contact_month'])\n",
    "X['previous_outcome']=encoder.fit_transform(X['previous_outcome'])"
   ]
  },
  {
   "cell_type": "code",
   "execution_count": 126,
   "metadata": {},
   "outputs": [
    {
     "output_type": "execute_result",
     "data": {
      "text/plain": [
       "       cust_age  job_title  marital_status  education  has_default_loan  \\\n",
       "0          48.0          0               2          1                 0   \n",
       "1          60.0          6               1          1                 0   \n",
       "2          34.0          0               1          1                 0   \n",
       "3          50.0          4               1          2                 0   \n",
       "4          60.0          4               1          2                 0   \n",
       "...         ...        ...             ...        ...               ...   \n",
       "31642      26.0          0               2          0                 0   \n",
       "31643      38.0          4               2          2                 0   \n",
       "31644      29.0          4               2          2                 0   \n",
       "31645      40.0          9               0          1                 0   \n",
       "31646      27.0          8               2          1                 1   \n",
       "\n",
       "       cust_balance  has_mortgage_loan  has_personal_loan  contact_channel  \\\n",
       "0              71.0                  1                  0                1   \n",
       "1             781.0                  1                  1                1   \n",
       "2             157.0                  1                  0                1   \n",
       "3              29.0                  0                  1                1   \n",
       "4            3301.0                  0                  0                1   \n",
       "...             ...                ...                ...              ...   \n",
       "31642         102.0                  1                  0                1   \n",
       "31643        2368.0                  1                  0                1   \n",
       "31644         722.0                  1                  0                4   \n",
       "31645         399.0                  0                  0                1   \n",
       "31646        -319.0                  0                  1                1   \n",
       "\n",
       "       contact_day  contact_month  contact_duration  campaign  pdays  \\\n",
       "0                8              8               101         2     -1   \n",
       "1               12              1               128         5     -1   \n",
       "2               11              5               254         2     -1   \n",
       "3               23              5               104         1     -1   \n",
       "4               17              6              2621         3     -1   \n",
       "...            ...            ...               ...       ...    ...   \n",
       "31642           16              8                46         1     -1   \n",
       "31643           18              8               241         3     -1   \n",
       "31644           18              8                81         4     -1   \n",
       "31645           28              4               246         2     -1   \n",
       "31646           30              5                89         2     -1   \n",
       "\n",
       "       previous_contacts  previous_outcome  \n",
       "0                      0                 0  \n",
       "1                      0                 0  \n",
       "2                      0                 0  \n",
       "3                      0                 0  \n",
       "4                      0                 0  \n",
       "...                  ...               ...  \n",
       "31642                  0                 0  \n",
       "31643                  0                 0  \n",
       "31644                  0                 0  \n",
       "31645                  0                 0  \n",
       "31646                  0                 0  \n",
       "\n",
       "[31647 rows x 16 columns]"
      ],
      "text/html": "<div>\n<style scoped>\n    .dataframe tbody tr th:only-of-type {\n        vertical-align: middle;\n    }\n\n    .dataframe tbody tr th {\n        vertical-align: top;\n    }\n\n    .dataframe thead th {\n        text-align: right;\n    }\n</style>\n<table border=\"1\" class=\"dataframe\">\n  <thead>\n    <tr style=\"text-align: right;\">\n      <th></th>\n      <th>cust_age</th>\n      <th>job_title</th>\n      <th>marital_status</th>\n      <th>education</th>\n      <th>has_default_loan</th>\n      <th>cust_balance</th>\n      <th>has_mortgage_loan</th>\n      <th>has_personal_loan</th>\n      <th>contact_channel</th>\n      <th>contact_day</th>\n      <th>contact_month</th>\n      <th>contact_duration</th>\n      <th>campaign</th>\n      <th>pdays</th>\n      <th>previous_contacts</th>\n      <th>previous_outcome</th>\n    </tr>\n  </thead>\n  <tbody>\n    <tr>\n      <th>0</th>\n      <td>48.0</td>\n      <td>0</td>\n      <td>2</td>\n      <td>1</td>\n      <td>0</td>\n      <td>71.0</td>\n      <td>1</td>\n      <td>0</td>\n      <td>1</td>\n      <td>8</td>\n      <td>8</td>\n      <td>101</td>\n      <td>2</td>\n      <td>-1</td>\n      <td>0</td>\n      <td>0</td>\n    </tr>\n    <tr>\n      <th>1</th>\n      <td>60.0</td>\n      <td>6</td>\n      <td>1</td>\n      <td>1</td>\n      <td>0</td>\n      <td>781.0</td>\n      <td>1</td>\n      <td>1</td>\n      <td>1</td>\n      <td>12</td>\n      <td>1</td>\n      <td>128</td>\n      <td>5</td>\n      <td>-1</td>\n      <td>0</td>\n      <td>0</td>\n    </tr>\n    <tr>\n      <th>2</th>\n      <td>34.0</td>\n      <td>0</td>\n      <td>1</td>\n      <td>1</td>\n      <td>0</td>\n      <td>157.0</td>\n      <td>1</td>\n      <td>0</td>\n      <td>1</td>\n      <td>11</td>\n      <td>5</td>\n      <td>254</td>\n      <td>2</td>\n      <td>-1</td>\n      <td>0</td>\n      <td>0</td>\n    </tr>\n    <tr>\n      <th>3</th>\n      <td>50.0</td>\n      <td>4</td>\n      <td>1</td>\n      <td>2</td>\n      <td>0</td>\n      <td>29.0</td>\n      <td>0</td>\n      <td>1</td>\n      <td>1</td>\n      <td>23</td>\n      <td>5</td>\n      <td>104</td>\n      <td>1</td>\n      <td>-1</td>\n      <td>0</td>\n      <td>0</td>\n    </tr>\n    <tr>\n      <th>4</th>\n      <td>60.0</td>\n      <td>4</td>\n      <td>1</td>\n      <td>2</td>\n      <td>0</td>\n      <td>3301.0</td>\n      <td>0</td>\n      <td>0</td>\n      <td>1</td>\n      <td>17</td>\n      <td>6</td>\n      <td>2621</td>\n      <td>3</td>\n      <td>-1</td>\n      <td>0</td>\n      <td>0</td>\n    </tr>\n    <tr>\n      <th>...</th>\n      <td>...</td>\n      <td>...</td>\n      <td>...</td>\n      <td>...</td>\n      <td>...</td>\n      <td>...</td>\n      <td>...</td>\n      <td>...</td>\n      <td>...</td>\n      <td>...</td>\n      <td>...</td>\n      <td>...</td>\n      <td>...</td>\n      <td>...</td>\n      <td>...</td>\n      <td>...</td>\n    </tr>\n    <tr>\n      <th>31642</th>\n      <td>26.0</td>\n      <td>0</td>\n      <td>2</td>\n      <td>0</td>\n      <td>0</td>\n      <td>102.0</td>\n      <td>1</td>\n      <td>0</td>\n      <td>1</td>\n      <td>16</td>\n      <td>8</td>\n      <td>46</td>\n      <td>1</td>\n      <td>-1</td>\n      <td>0</td>\n      <td>0</td>\n    </tr>\n    <tr>\n      <th>31643</th>\n      <td>38.0</td>\n      <td>4</td>\n      <td>2</td>\n      <td>2</td>\n      <td>0</td>\n      <td>2368.0</td>\n      <td>1</td>\n      <td>0</td>\n      <td>1</td>\n      <td>18</td>\n      <td>8</td>\n      <td>241</td>\n      <td>3</td>\n      <td>-1</td>\n      <td>0</td>\n      <td>0</td>\n    </tr>\n    <tr>\n      <th>31644</th>\n      <td>29.0</td>\n      <td>4</td>\n      <td>2</td>\n      <td>2</td>\n      <td>0</td>\n      <td>722.0</td>\n      <td>1</td>\n      <td>0</td>\n      <td>4</td>\n      <td>18</td>\n      <td>8</td>\n      <td>81</td>\n      <td>4</td>\n      <td>-1</td>\n      <td>0</td>\n      <td>0</td>\n    </tr>\n    <tr>\n      <th>31645</th>\n      <td>40.0</td>\n      <td>9</td>\n      <td>0</td>\n      <td>1</td>\n      <td>0</td>\n      <td>399.0</td>\n      <td>0</td>\n      <td>0</td>\n      <td>1</td>\n      <td>28</td>\n      <td>4</td>\n      <td>246</td>\n      <td>2</td>\n      <td>-1</td>\n      <td>0</td>\n      <td>0</td>\n    </tr>\n    <tr>\n      <th>31646</th>\n      <td>27.0</td>\n      <td>8</td>\n      <td>2</td>\n      <td>1</td>\n      <td>1</td>\n      <td>-319.0</td>\n      <td>0</td>\n      <td>1</td>\n      <td>1</td>\n      <td>30</td>\n      <td>5</td>\n      <td>89</td>\n      <td>2</td>\n      <td>-1</td>\n      <td>0</td>\n      <td>0</td>\n    </tr>\n  </tbody>\n</table>\n<p>31647 rows × 16 columns</p>\n</div>"
     },
     "metadata": {},
     "execution_count": 126
    }
   ],
   "source": [
    "X"
   ]
  },
  {
   "cell_type": "code",
   "execution_count": 127,
   "metadata": {},
   "outputs": [],
   "source": [
    "#encoding dependent variable\n",
    "encode=LabelEncoder()\n",
    "y=encoder.fit_transform(y)"
   ]
  },
  {
   "cell_type": "code",
   "execution_count": 128,
   "metadata": {},
   "outputs": [
    {
     "output_type": "execute_result",
     "data": {
      "text/plain": [
       "array([0, 0, 0, ..., 0, 0, 0])"
      ]
     },
     "metadata": {},
     "execution_count": 128
    }
   ],
   "source": [
    "y"
   ]
  },
  {
   "cell_type": "code",
   "execution_count": 129,
   "metadata": {},
   "outputs": [],
   "source": [
    "#splitting train and test split\n",
    "from sklearn.model_selection import train_test_split\n",
    "X_train, X_test, y_train, y_test=train_test_split(X, y, test_size=0.25, random_state=1234)\n"
   ]
  },
  {
   "cell_type": "code",
   "execution_count": 130,
   "metadata": {},
   "outputs": [],
   "source": [
    "#checking models"
   ]
  },
  {
   "cell_type": "code",
   "execution_count": 131,
   "metadata": {},
   "outputs": [
    {
     "output_type": "stream",
     "name": "stderr",
     "text": [
      "/home/aliyusifov/miniconda3/envs/main/lib/python3.9/site-packages/sklearn/linear_model/_logistic.py:763: ConvergenceWarning: lbfgs failed to converge (status=1):\nSTOP: TOTAL NO. of ITERATIONS REACHED LIMIT.\n\nIncrease the number of iterations (max_iter) or scale the data as shown in:\n    https://scikit-learn.org/stable/modules/preprocessing.html\nPlease also refer to the documentation for alternative solver options:\n    https://scikit-learn.org/stable/modules/linear_model.html#logistic-regression\n  n_iter_i = _check_optimize_result(\n"
     ]
    },
    {
     "output_type": "execute_result",
     "data": {
      "text/plain": [
       "LogisticRegression()"
      ]
     },
     "metadata": {},
     "execution_count": 131
    }
   ],
   "source": [
    "#Logistic regression\n",
    "from sklearn.linear_model import LogisticRegression\n",
    "log_reg_class=LogisticRegression()\n",
    "log_reg_class.fit(X_train, y_train)\n"
   ]
  },
  {
   "cell_type": "code",
   "execution_count": 132,
   "metadata": {},
   "outputs": [],
   "source": [
    "y_pred=log_reg_class.predict(X_test)"
   ]
  },
  {
   "cell_type": "code",
   "execution_count": 133,
   "metadata": {},
   "outputs": [
    {
     "output_type": "stream",
     "name": "stdout",
     "text": [
      "Accuracy: 0.8856167846309403\nF1 score: 0.2672064777327935\n[[6842  130]\n [ 775  165]]\n"
     ]
    }
   ],
   "source": [
    "from sklearn.metrics import accuracy_score,confusion_matrix, f1_score\n",
    "print(f'Accuracy: {accuracy_score(y_test, y_pred)}')\n",
    "print(f'F1 score: {f1_score(y_test, y_pred)}')\n",
    "print(confusion_matrix(y_test, y_pred))"
   ]
  },
  {
   "cell_type": "code",
   "execution_count": 134,
   "metadata": {},
   "outputs": [
    {
     "output_type": "execute_result",
     "data": {
      "text/plain": [
       "GaussianNB()"
      ]
     },
     "metadata": {},
     "execution_count": 134
    }
   ],
   "source": [
    "#Naive Bayes \n",
    "from sklearn.naive_bayes import GaussianNB\n",
    "nb_class=GaussianNB()\n",
    "nb_class.fit(X_train, y_train)"
   ]
  },
  {
   "cell_type": "code",
   "execution_count": 135,
   "metadata": {},
   "outputs": [],
   "source": [
    "y_pred=nb_class.predict(X_test)"
   ]
  },
  {
   "cell_type": "code",
   "execution_count": 136,
   "metadata": {},
   "outputs": [
    {
     "output_type": "stream",
     "name": "stdout",
     "text": [
      "Accuracy: 0.8610970677451971\nF1 score: 0.44466902475997977\n[[6373  599]\n [ 500  440]]\n"
     ]
    }
   ],
   "source": [
    "print(f'Accuracy: {accuracy_score(y_test, y_pred)}')\n",
    "print(f'F1 score: {f1_score(y_test, y_pred)}')\n",
    "print(confusion_matrix(y_test, y_pred))"
   ]
  },
  {
   "cell_type": "code",
   "execution_count": 137,
   "metadata": {},
   "outputs": [
    {
     "output_type": "execute_result",
     "data": {
      "text/plain": [
       "KNeighborsClassifier()"
      ]
     },
     "metadata": {},
     "execution_count": 137
    }
   ],
   "source": [
    "#KNeighborsClassifier\n",
    "from sklearn.neighbors import KNeighborsClassifier\n",
    "knn_class=KNeighborsClassifier()\n",
    "knn_class.fit(X_train, y_train)"
   ]
  },
  {
   "cell_type": "code",
   "execution_count": 138,
   "metadata": {},
   "outputs": [],
   "source": [
    "y_pred=knn_class.predict(X_test)"
   ]
  },
  {
   "cell_type": "code",
   "execution_count": 139,
   "metadata": {},
   "outputs": [
    {
     "output_type": "stream",
     "name": "stdout",
     "text": [
      "Accuracy: 0.8828361981799798\nF1 score: 0.3689584751531655\n[[6714  258]\n [ 669  271]]\n"
     ]
    }
   ],
   "source": [
    "print(f'Accuracy: {accuracy_score(y_test, y_pred)}')\n",
    "print(f'F1 score: {f1_score(y_test, y_pred)}')\n",
    "print(confusion_matrix(y_test, y_pred))"
   ]
  },
  {
   "cell_type": "code",
   "execution_count": 140,
   "metadata": {},
   "outputs": [
    {
     "output_type": "execute_result",
     "data": {
      "text/plain": [
       "DecisionTreeClassifier()"
      ]
     },
     "metadata": {},
     "execution_count": 140
    }
   ],
   "source": [
    "#DecisionTreeCLassifier\n",
    "from sklearn.tree import DecisionTreeClassifier\n",
    "tree_class=DecisionTreeClassifier()\n",
    "tree_class.fit(X_train, y_train)"
   ]
  },
  {
   "cell_type": "code",
   "execution_count": 141,
   "metadata": {},
   "outputs": [],
   "source": [
    "y_pred=tree_class.predict(X_test)"
   ]
  },
  {
   "cell_type": "code",
   "execution_count": 142,
   "metadata": {},
   "outputs": [
    {
     "output_type": "stream",
     "name": "stdout",
     "text": [
      "Accuracy: 0.8693124368048534\nF1 score: 0.45058448459086076\n[[6454  518]\n [ 516  424]]\n"
     ]
    }
   ],
   "source": [
    "print(f'Accuracy: {accuracy_score(y_test, y_pred)}')\n",
    "print(f'F1 score: {f1_score(y_test, y_pred)}')\n",
    "print(confusion_matrix(y_test, y_pred))"
   ]
  },
  {
   "cell_type": "code",
   "execution_count": 143,
   "metadata": {},
   "outputs": [
    {
     "output_type": "execute_result",
     "data": {
      "text/plain": [
       "RandomForestClassifier()"
      ]
     },
     "metadata": {},
     "execution_count": 143
    }
   ],
   "source": [
    "#RandomForest\n",
    "from sklearn.ensemble import RandomForestClassifier\n",
    "rf_class=RandomForestClassifier(n_estimators=100)\n",
    "rf_class.fit(X_train, y_train)"
   ]
  },
  {
   "cell_type": "code",
   "execution_count": 144,
   "metadata": {},
   "outputs": [],
   "source": [
    "y_pred=rf_class.predict(X_test)"
   ]
  },
  {
   "cell_type": "code",
   "execution_count": 145,
   "metadata": {},
   "outputs": [
    {
     "output_type": "stream",
     "name": "stdout",
     "text": [
      "Accuracy: 0.9053336703741153\nF1 score: 0.4976525821596244\n[[6792  180]\n [ 569  371]]\n"
     ]
    }
   ],
   "source": [
    "print(f'Accuracy: {accuracy_score(y_test, y_pred)}')\n",
    "print(f'F1 score: {f1_score(y_test, y_pred)}')\n",
    "print(confusion_matrix(y_test, y_pred))"
   ]
  },
  {
   "cell_type": "code",
   "execution_count": 146,
   "metadata": {},
   "outputs": [
    {
     "output_type": "stream",
     "name": "stdout",
     "text": [
      "[22:27:03] WARNING: /tmp/build/80754af9/xgboost-split_1619724447847/work/src/learner.cc:1061: Starting in XGBoost 1.3.0, the default evaluation metric used with the objective 'binary:logistic' was changed from 'error' to 'logloss'. Explicitly set eval_metric if you'd like to restore the old behavior.\n",
      "/home/aliyusifov/miniconda3/envs/main/lib/python3.9/site-packages/xgboost/sklearn.py:888: UserWarning: The use of label encoder in XGBClassifier is deprecated and will be removed in a future release. To remove this warning, do the following: 1) Pass option use_label_encoder=False when constructing XGBClassifier object; and 2) Encode your labels (y) as integers starting with 0, i.e. 0, 1, 2, ..., [num_class - 1].\n",
      "  warnings.warn(label_encoder_deprecation_msg, UserWarning)\n"
     ]
    },
    {
     "output_type": "execute_result",
     "data": {
      "text/plain": [
       "XGBClassifier(base_score=0.5, booster='gbtree', colsample_bylevel=1,\n",
       "              colsample_bynode=1, colsample_bytree=1, gamma=0, gpu_id=-1,\n",
       "              importance_type='gain', interaction_constraints='',\n",
       "              learning_rate=0.300000012, max_delta_step=0, max_depth=6,\n",
       "              min_child_weight=1, missing=nan, monotone_constraints='()',\n",
       "              n_estimators=100, n_jobs=8, num_parallel_tree=1, random_state=0,\n",
       "              reg_alpha=0, reg_lambda=1, scale_pos_weight=1, subsample=1,\n",
       "              tree_method='exact', validate_parameters=1, verbosity=None)"
      ]
     },
     "metadata": {},
     "execution_count": 146
    }
   ],
   "source": [
    "#XGboosting\n",
    "from xgboost import XGBClassifier\n",
    "xgb_class=XGBClassifier()\n",
    "xgb_class.fit(X_train, y_train)"
   ]
  },
  {
   "cell_type": "code",
   "execution_count": 147,
   "metadata": {},
   "outputs": [],
   "source": [
    "y_pred=xgb_class.predict(X_test)"
   ]
  },
  {
   "cell_type": "code",
   "execution_count": 148,
   "metadata": {},
   "outputs": [
    {
     "output_type": "stream",
     "name": "stdout",
     "text": [
      "Accuracy: 0.904196157735086\nF1 score: 0.5190355329949239\n[[6745  227]\n [ 531  409]]\n"
     ]
    }
   ],
   "source": [
    "print(f'Accuracy: {accuracy_score(y_test, y_pred)}')\n",
    "print(f'F1 score: {f1_score(y_test, y_pred)}')\n",
    "print(confusion_matrix(y_test, y_pred))"
   ]
  },
  {
   "cell_type": "code",
   "execution_count": 149,
   "metadata": {},
   "outputs": [],
   "source": [
    "#Applying on Test data"
   ]
  },
  {
   "cell_type": "code",
   "execution_count": 150,
   "metadata": {},
   "outputs": [],
   "source": [
    "X=test_data[['cust_age', 'job_title', 'marital_status', 'education',\n",
    "       'has_default_loan', 'cust_balance', 'has_mortgage_loan',\n",
    "       'has_personal_loan', 'contact_channel', 'contact_day', 'contact_month',\n",
    "       'contact_duration', 'campaign', 'pdays', 'previous_contacts',\n",
    "       'previous_outcome']]"
   ]
  },
  {
   "cell_type": "code",
   "execution_count": 151,
   "metadata": {},
   "outputs": [
    {
     "output_type": "execute_result",
     "data": {
      "text/plain": [
       "customer_id           int64\n",
       "cust_age             object\n",
       "job_title            object\n",
       "marital_status       object\n",
       "education            object\n",
       "has_default_loan     object\n",
       "cust_balance         object\n",
       "has_mortgage_loan    object\n",
       "has_personal_loan    object\n",
       "contact_channel      object\n",
       "contact_day           int64\n",
       "contact_month        object\n",
       "contact_duration      int64\n",
       "campaign              int64\n",
       "pdays                 int64\n",
       "previous_contacts     int64\n",
       "previous_outcome     object\n",
       "dtype: object"
      ]
     },
     "metadata": {},
     "execution_count": 151
    }
   ],
   "source": [
    "test_data.dtypes"
   ]
  },
  {
   "cell_type": "code",
   "execution_count": 152,
   "metadata": {},
   "outputs": [
    {
     "output_type": "stream",
     "name": "stderr",
     "text": [
      "/home/aliyusifov/miniconda3/envs/main/lib/python3.9/site-packages/pandas/core/frame.py:3191: SettingWithCopyWarning: \nA value is trying to be set on a copy of a slice from a DataFrame.\nTry using .loc[row_indexer,col_indexer] = value instead\n\nSee the caveats in the documentation: https://pandas.pydata.org/pandas-docs/stable/user_guide/indexing.html#returning-a-view-versus-a-copy\n  self[k1] = value[k2]\n"
     ]
    }
   ],
   "source": [
    "X[['cust_age','cust_balance']] = X[['cust_age','cust_balance']].astype(str)"
   ]
  },
  {
   "cell_type": "code",
   "execution_count": 153,
   "metadata": {},
   "outputs": [
    {
     "output_type": "stream",
     "name": "stderr",
     "text": [
      "<ipython-input-153-915905bf422e>:1: SettingWithCopyWarning: \nA value is trying to be set on a copy of a slice from a DataFrame.\nTry using .loc[row_indexer,col_indexer] = value instead\n\nSee the caveats in the documentation: https://pandas.pydata.org/pandas-docs/stable/user_guide/indexing.html#returning-a-view-versus-a-copy\n  X['cust_age'] = X['cust_age'].map(lambda x: x.rstrip('/r').rstrip('/'))\n<ipython-input-153-915905bf422e>:2: SettingWithCopyWarning: \nA value is trying to be set on a copy of a slice from a DataFrame.\nTry using .loc[row_indexer,col_indexer] = value instead\n\nSee the caveats in the documentation: https://pandas.pydata.org/pandas-docs/stable/user_guide/indexing.html#returning-a-view-versus-a-copy\n  X['cust_balance']= X['cust_balance'].map(lambda x: x.rstrip('/r').lstrip('/'))\n"
     ]
    }
   ],
   "source": [
    "X['cust_age'] = X['cust_age'].map(lambda x: x.rstrip('/r').rstrip('/'))\n",
    "X['cust_balance']= X['cust_balance'].map(lambda x: x.rstrip('/r').lstrip('/'))"
   ]
  },
  {
   "cell_type": "code",
   "execution_count": 154,
   "metadata": {},
   "outputs": [
    {
     "output_type": "stream",
     "name": "stderr",
     "text": [
      "<ipython-input-154-4c2ea8c35aae>:2: SettingWithCopyWarning: \nA value is trying to be set on a copy of a slice from a DataFrame.\nTry using .loc[row_indexer,col_indexer] = value instead\n\nSee the caveats in the documentation: https://pandas.pydata.org/pandas-docs/stable/user_guide/indexing.html#returning-a-view-versus-a-copy\n  X[\"cust_age\"] = pd.to_numeric(X[\"cust_age\"], errors='coerce')\n<ipython-input-154-4c2ea8c35aae>:3: SettingWithCopyWarning: \nA value is trying to be set on a copy of a slice from a DataFrame.\nTry using .loc[row_indexer,col_indexer] = value instead\n\nSee the caveats in the documentation: https://pandas.pydata.org/pandas-docs/stable/user_guide/indexing.html#returning-a-view-versus-a-copy\n  X[\"cust_balance\"] = pd.to_numeric(X[\"cust_balance\"], errors='coerce')\n"
     ]
    }
   ],
   "source": [
    "#converting cust_age and cust_balance columns to float\n",
    "X[\"cust_age\"] = pd.to_numeric(X[\"cust_age\"], errors='coerce')\n",
    "X[\"cust_balance\"] = pd.to_numeric(X[\"cust_balance\"], errors='coerce')"
   ]
  },
  {
   "cell_type": "code",
   "execution_count": 155,
   "metadata": {},
   "outputs": [
    {
     "output_type": "execute_result",
     "data": {
      "text/plain": [
       "cust_age               155\n",
       "job_title               84\n",
       "marital_status           0\n",
       "education              532\n",
       "has_default_loan         0\n",
       "cust_balance           185\n",
       "has_mortgage_loan        0\n",
       "has_personal_loan        0\n",
       "contact_channel       3869\n",
       "contact_day              0\n",
       "contact_month            0\n",
       "contact_duration         0\n",
       "campaign                 0\n",
       "pdays                    0\n",
       "previous_contacts        0\n",
       "previous_outcome     11070\n",
       "dtype: int64"
      ]
     },
     "metadata": {},
     "execution_count": 155
    }
   ],
   "source": [
    "X.isnull().sum()"
   ]
  },
  {
   "cell_type": "code",
   "execution_count": 156,
   "metadata": {},
   "outputs": [
    {
     "output_type": "stream",
     "name": "stderr",
     "text": [
      "<ipython-input-156-f60f1c2a3663>:3: SettingWithCopyWarning: \nA value is trying to be set on a copy of a slice from a DataFrame.\nTry using .loc[row_indexer,col_indexer] = value instead\n\nSee the caveats in the documentation: https://pandas.pydata.org/pandas-docs/stable/user_guide/indexing.html#returning-a-view-versus-a-copy\n  X[['cust_age','cust_balance']]=num_imputer.fit_transform(X[['cust_age','cust_balance']])\n/home/aliyusifov/miniconda3/envs/main/lib/python3.9/site-packages/pandas/core/indexing.py:1738: SettingWithCopyWarning: \nA value is trying to be set on a copy of a slice from a DataFrame.\nTry using .loc[row_indexer,col_indexer] = value instead\n\nSee the caveats in the documentation: https://pandas.pydata.org/pandas-docs/stable/user_guide/indexing.html#returning-a-view-versus-a-copy\n  self._setitem_single_column(loc, value[:, i].tolist(), pi)\n"
     ]
    }
   ],
   "source": [
    "#imputatio for numerical values\n",
    "num_imputer=SimpleImputer(missing_values=np.nan, strategy='mean')\n",
    "X[['cust_age','cust_balance']]=num_imputer.fit_transform(X[['cust_age','cust_balance']])"
   ]
  },
  {
   "cell_type": "code",
   "execution_count": 157,
   "metadata": {},
   "outputs": [
    {
     "output_type": "stream",
     "name": "stderr",
     "text": [
      "<ipython-input-157-b27e7daea21f>:2: SettingWithCopyWarning: \nA value is trying to be set on a copy of a slice from a DataFrame.\nTry using .loc[row_indexer,col_indexer] = value instead\n\nSee the caveats in the documentation: https://pandas.pydata.org/pandas-docs/stable/user_guide/indexing.html#returning-a-view-versus-a-copy\n  X[['job_title', 'education', 'contact_channel', 'previous_outcome']]=cat_imputer.fit_transform(X[['job_title', 'education', 'contact_channel', 'previous_outcome']])\n/home/aliyusifov/miniconda3/envs/main/lib/python3.9/site-packages/pandas/core/indexing.py:1738: SettingWithCopyWarning: \nA value is trying to be set on a copy of a slice from a DataFrame.\nTry using .loc[row_indexer,col_indexer] = value instead\n\nSee the caveats in the documentation: https://pandas.pydata.org/pandas-docs/stable/user_guide/indexing.html#returning-a-view-versus-a-copy\n  self._setitem_single_column(loc, value[:, i].tolist(), pi)\n"
     ]
    }
   ],
   "source": [
    "cat_imputer=SimpleImputer(missing_values=np.nan, strategy='most_frequent')\n",
    "X[['job_title', 'education', 'contact_channel', 'previous_outcome']]=cat_imputer.fit_transform(X[['job_title', 'education', 'contact_channel', 'previous_outcome']])"
   ]
  },
  {
   "cell_type": "code",
   "execution_count": 158,
   "metadata": {},
   "outputs": [
    {
     "output_type": "execute_result",
     "data": {
      "text/plain": [
       "cust_age             0\n",
       "job_title            0\n",
       "marital_status       0\n",
       "education            0\n",
       "has_default_loan     0\n",
       "cust_balance         0\n",
       "has_mortgage_loan    0\n",
       "has_personal_loan    0\n",
       "contact_channel      0\n",
       "contact_day          0\n",
       "contact_month        0\n",
       "contact_duration     0\n",
       "campaign             0\n",
       "pdays                0\n",
       "previous_contacts    0\n",
       "previous_outcome     0\n",
       "dtype: int64"
      ]
     },
     "metadata": {},
     "execution_count": 158
    }
   ],
   "source": [
    "X.isnull().sum()"
   ]
  },
  {
   "cell_type": "code",
   "execution_count": 159,
   "metadata": {},
   "outputs": [
    {
     "output_type": "stream",
     "name": "stderr",
     "text": [
      "<ipython-input-159-1be032bebeb7>:4: SettingWithCopyWarning: \nA value is trying to be set on a copy of a slice from a DataFrame.\nTry using .loc[row_indexer,col_indexer] = value instead\n\nSee the caveats in the documentation: https://pandas.pydata.org/pandas-docs/stable/user_guide/indexing.html#returning-a-view-versus-a-copy\n  X['job_title']=encoder.fit_transform(X['job_title'])\n<ipython-input-159-1be032bebeb7>:5: SettingWithCopyWarning: \nA value is trying to be set on a copy of a slice from a DataFrame.\nTry using .loc[row_indexer,col_indexer] = value instead\n\nSee the caveats in the documentation: https://pandas.pydata.org/pandas-docs/stable/user_guide/indexing.html#returning-a-view-versus-a-copy\n  X['marital_status']=encoder.fit_transform(X['marital_status'])\n<ipython-input-159-1be032bebeb7>:6: SettingWithCopyWarning: \nA value is trying to be set on a copy of a slice from a DataFrame.\nTry using .loc[row_indexer,col_indexer] = value instead\n\nSee the caveats in the documentation: https://pandas.pydata.org/pandas-docs/stable/user_guide/indexing.html#returning-a-view-versus-a-copy\n  X['education']=encoder.fit_transform(X['education'])\n<ipython-input-159-1be032bebeb7>:7: SettingWithCopyWarning: \nA value is trying to be set on a copy of a slice from a DataFrame.\nTry using .loc[row_indexer,col_indexer] = value instead\n\nSee the caveats in the documentation: https://pandas.pydata.org/pandas-docs/stable/user_guide/indexing.html#returning-a-view-versus-a-copy\n  X['has_default_loan']=encoder.fit_transform(X['has_default_loan'])\n<ipython-input-159-1be032bebeb7>:8: SettingWithCopyWarning: \nA value is trying to be set on a copy of a slice from a DataFrame.\nTry using .loc[row_indexer,col_indexer] = value instead\n\nSee the caveats in the documentation: https://pandas.pydata.org/pandas-docs/stable/user_guide/indexing.html#returning-a-view-versus-a-copy\n  X['has_mortgage_loan']=encoder.fit_transform(X['has_mortgage_loan'])\n<ipython-input-159-1be032bebeb7>:9: SettingWithCopyWarning: \nA value is trying to be set on a copy of a slice from a DataFrame.\nTry using .loc[row_indexer,col_indexer] = value instead\n\nSee the caveats in the documentation: https://pandas.pydata.org/pandas-docs/stable/user_guide/indexing.html#returning-a-view-versus-a-copy\n  X['has_personal_loan']=encoder.fit_transform(X['has_personal_loan'])\n<ipython-input-159-1be032bebeb7>:10: SettingWithCopyWarning: \nA value is trying to be set on a copy of a slice from a DataFrame.\nTry using .loc[row_indexer,col_indexer] = value instead\n\nSee the caveats in the documentation: https://pandas.pydata.org/pandas-docs/stable/user_guide/indexing.html#returning-a-view-versus-a-copy\n  X['contact_channel']=encoder.fit_transform(X['contact_channel'])\n<ipython-input-159-1be032bebeb7>:11: SettingWithCopyWarning: \nA value is trying to be set on a copy of a slice from a DataFrame.\nTry using .loc[row_indexer,col_indexer] = value instead\n\nSee the caveats in the documentation: https://pandas.pydata.org/pandas-docs/stable/user_guide/indexing.html#returning-a-view-versus-a-copy\n  X['contact_month']=encoder.fit_transform(X['contact_month'])\n<ipython-input-159-1be032bebeb7>:12: SettingWithCopyWarning: \nA value is trying to be set on a copy of a slice from a DataFrame.\nTry using .loc[row_indexer,col_indexer] = value instead\n\nSee the caveats in the documentation: https://pandas.pydata.org/pandas-docs/stable/user_guide/indexing.html#returning-a-view-versus-a-copy\n  X['previous_outcome']=encoder.fit_transform(X['previous_outcome'])\n"
     ]
    }
   ],
   "source": [
    "#encoding independent values\n",
    "from sklearn.preprocessing import LabelEncoder\n",
    "encoder=LabelEncoder()\n",
    "X['job_title']=encoder.fit_transform(X['job_title'])\n",
    "X['marital_status']=encoder.fit_transform(X['marital_status'])\n",
    "X['education']=encoder.fit_transform(X['education'])\n",
    "X['has_default_loan']=encoder.fit_transform(X['has_default_loan'])\n",
    "X['has_mortgage_loan']=encoder.fit_transform(X['has_mortgage_loan'])\n",
    "X['has_personal_loan']=encoder.fit_transform(X['has_personal_loan'])\n",
    "X['contact_channel']=encoder.fit_transform(X['contact_channel'])\n",
    "X['contact_month']=encoder.fit_transform(X['contact_month'])\n",
    "X['previous_outcome']=encoder.fit_transform(X['previous_outcome'])"
   ]
  },
  {
   "cell_type": "code",
   "execution_count": 160,
   "metadata": {},
   "outputs": [
    {
     "output_type": "execute_result",
     "data": {
      "text/plain": [
       "        cust_age  job_title  marital_status  education  has_default_loan  \\\n",
       "0      58.000000          0               1          0                 0   \n",
       "1      40.904691          4               1          2                 0   \n",
       "2      33.000000          4               1          2                 0   \n",
       "3      36.000000          4               1          2                 0   \n",
       "4      55.000000          1               1          1                 0   \n",
       "...          ...        ...             ...        ...               ...   \n",
       "13559  35.000000          1               2          2                 0   \n",
       "13560  37.000000          9               2          1                 0   \n",
       "13561  37.000000         13               1          1                 0   \n",
       "13562  34.000000          9               1          1                 0   \n",
       "13563  51.000000          4               1          2                 0   \n",
       "\n",
       "       cust_balance  has_mortgage_loan  has_personal_loan  contact_channel  \\\n",
       "0            1231.0                  0                  0                1   \n",
       "1               0.0                  0                  0                1   \n",
       "2            2173.0                  1                  0                1   \n",
       "3             502.0                  1                  0                1   \n",
       "4               0.0                  1                  0                1   \n",
       "...             ...                ...                ...              ...   \n",
       "13559        1924.0                  1                  0                1   \n",
       "13560           0.0                  0                  0                1   \n",
       "13561          80.0                  0                  0                1   \n",
       "13562        -312.0                  1                  0                1   \n",
       "13563         469.0                  0                  0                1   \n",
       "\n",
       "       contact_day  contact_month  contact_duration  campaign  pdays  \\\n",
       "0               20              6                21         3     -1   \n",
       "1               14              1                64         2     -1   \n",
       "2               15              0               871         1     -1   \n",
       "3               21              8               509         1     -1   \n",
       "4               16              8               248         3     -1   \n",
       "...            ...            ...               ...       ...    ...   \n",
       "13559           20              0               285         1     -1   \n",
       "13560           21              9               232         2     -1   \n",
       "13561            3              3               248         2     -1   \n",
       "13562            9              8               232         1     -1   \n",
       "13563           15              0               200         1    181   \n",
       "\n",
       "       previous_contacts  previous_outcome  \n",
       "0                      0                 0  \n",
       "1                      0                 0  \n",
       "2                      0                 0  \n",
       "3                      0                 0  \n",
       "4                      0                 0  \n",
       "...                  ...               ...  \n",
       "13559                  0                 0  \n",
       "13560                  0                 0  \n",
       "13561                  0                 0  \n",
       "13562                  0                 0  \n",
       "13563                  2                 2  \n",
       "\n",
       "[13564 rows x 16 columns]"
      ],
      "text/html": "<div>\n<style scoped>\n    .dataframe tbody tr th:only-of-type {\n        vertical-align: middle;\n    }\n\n    .dataframe tbody tr th {\n        vertical-align: top;\n    }\n\n    .dataframe thead th {\n        text-align: right;\n    }\n</style>\n<table border=\"1\" class=\"dataframe\">\n  <thead>\n    <tr style=\"text-align: right;\">\n      <th></th>\n      <th>cust_age</th>\n      <th>job_title</th>\n      <th>marital_status</th>\n      <th>education</th>\n      <th>has_default_loan</th>\n      <th>cust_balance</th>\n      <th>has_mortgage_loan</th>\n      <th>has_personal_loan</th>\n      <th>contact_channel</th>\n      <th>contact_day</th>\n      <th>contact_month</th>\n      <th>contact_duration</th>\n      <th>campaign</th>\n      <th>pdays</th>\n      <th>previous_contacts</th>\n      <th>previous_outcome</th>\n    </tr>\n  </thead>\n  <tbody>\n    <tr>\n      <th>0</th>\n      <td>58.000000</td>\n      <td>0</td>\n      <td>1</td>\n      <td>0</td>\n      <td>0</td>\n      <td>1231.0</td>\n      <td>0</td>\n      <td>0</td>\n      <td>1</td>\n      <td>20</td>\n      <td>6</td>\n      <td>21</td>\n      <td>3</td>\n      <td>-1</td>\n      <td>0</td>\n      <td>0</td>\n    </tr>\n    <tr>\n      <th>1</th>\n      <td>40.904691</td>\n      <td>4</td>\n      <td>1</td>\n      <td>2</td>\n      <td>0</td>\n      <td>0.0</td>\n      <td>0</td>\n      <td>0</td>\n      <td>1</td>\n      <td>14</td>\n      <td>1</td>\n      <td>64</td>\n      <td>2</td>\n      <td>-1</td>\n      <td>0</td>\n      <td>0</td>\n    </tr>\n    <tr>\n      <th>2</th>\n      <td>33.000000</td>\n      <td>4</td>\n      <td>1</td>\n      <td>2</td>\n      <td>0</td>\n      <td>2173.0</td>\n      <td>1</td>\n      <td>0</td>\n      <td>1</td>\n      <td>15</td>\n      <td>0</td>\n      <td>871</td>\n      <td>1</td>\n      <td>-1</td>\n      <td>0</td>\n      <td>0</td>\n    </tr>\n    <tr>\n      <th>3</th>\n      <td>36.000000</td>\n      <td>4</td>\n      <td>1</td>\n      <td>2</td>\n      <td>0</td>\n      <td>502.0</td>\n      <td>1</td>\n      <td>0</td>\n      <td>1</td>\n      <td>21</td>\n      <td>8</td>\n      <td>509</td>\n      <td>1</td>\n      <td>-1</td>\n      <td>0</td>\n      <td>0</td>\n    </tr>\n    <tr>\n      <th>4</th>\n      <td>55.000000</td>\n      <td>1</td>\n      <td>1</td>\n      <td>1</td>\n      <td>0</td>\n      <td>0.0</td>\n      <td>1</td>\n      <td>0</td>\n      <td>1</td>\n      <td>16</td>\n      <td>8</td>\n      <td>248</td>\n      <td>3</td>\n      <td>-1</td>\n      <td>0</td>\n      <td>0</td>\n    </tr>\n    <tr>\n      <th>...</th>\n      <td>...</td>\n      <td>...</td>\n      <td>...</td>\n      <td>...</td>\n      <td>...</td>\n      <td>...</td>\n      <td>...</td>\n      <td>...</td>\n      <td>...</td>\n      <td>...</td>\n      <td>...</td>\n      <td>...</td>\n      <td>...</td>\n      <td>...</td>\n      <td>...</td>\n      <td>...</td>\n    </tr>\n    <tr>\n      <th>13559</th>\n      <td>35.000000</td>\n      <td>1</td>\n      <td>2</td>\n      <td>2</td>\n      <td>0</td>\n      <td>1924.0</td>\n      <td>1</td>\n      <td>0</td>\n      <td>1</td>\n      <td>20</td>\n      <td>0</td>\n      <td>285</td>\n      <td>1</td>\n      <td>-1</td>\n      <td>0</td>\n      <td>0</td>\n    </tr>\n    <tr>\n      <th>13560</th>\n      <td>37.000000</td>\n      <td>9</td>\n      <td>2</td>\n      <td>1</td>\n      <td>0</td>\n      <td>0.0</td>\n      <td>0</td>\n      <td>0</td>\n      <td>1</td>\n      <td>21</td>\n      <td>9</td>\n      <td>232</td>\n      <td>2</td>\n      <td>-1</td>\n      <td>0</td>\n      <td>0</td>\n    </tr>\n    <tr>\n      <th>13561</th>\n      <td>37.000000</td>\n      <td>13</td>\n      <td>1</td>\n      <td>1</td>\n      <td>0</td>\n      <td>80.0</td>\n      <td>0</td>\n      <td>0</td>\n      <td>1</td>\n      <td>3</td>\n      <td>3</td>\n      <td>248</td>\n      <td>2</td>\n      <td>-1</td>\n      <td>0</td>\n      <td>0</td>\n    </tr>\n    <tr>\n      <th>13562</th>\n      <td>34.000000</td>\n      <td>9</td>\n      <td>1</td>\n      <td>1</td>\n      <td>0</td>\n      <td>-312.0</td>\n      <td>1</td>\n      <td>0</td>\n      <td>1</td>\n      <td>9</td>\n      <td>8</td>\n      <td>232</td>\n      <td>1</td>\n      <td>-1</td>\n      <td>0</td>\n      <td>0</td>\n    </tr>\n    <tr>\n      <th>13563</th>\n      <td>51.000000</td>\n      <td>4</td>\n      <td>1</td>\n      <td>2</td>\n      <td>0</td>\n      <td>469.0</td>\n      <td>0</td>\n      <td>0</td>\n      <td>1</td>\n      <td>15</td>\n      <td>0</td>\n      <td>200</td>\n      <td>1</td>\n      <td>181</td>\n      <td>2</td>\n      <td>2</td>\n    </tr>\n  </tbody>\n</table>\n<p>13564 rows × 16 columns</p>\n</div>"
     },
     "metadata": {},
     "execution_count": 160
    }
   ],
   "source": [
    "X"
   ]
  },
  {
   "cell_type": "code",
   "execution_count": 161,
   "metadata": {},
   "outputs": [],
   "source": [
    "y_pred=xgb_class.predict(X)"
   ]
  },
  {
   "cell_type": "code",
   "execution_count": 162,
   "metadata": {},
   "outputs": [
    {
     "output_type": "execute_result",
     "data": {
      "text/plain": [
       "array([0, 0, 1, ..., 0, 0, 1])"
      ]
     },
     "metadata": {},
     "execution_count": 162
    }
   ],
   "source": [
    "y_pred"
   ]
  },
  {
   "cell_type": "code",
   "execution_count": 163,
   "metadata": {},
   "outputs": [
    {
     "output_type": "stream",
     "name": "stdout",
     "text": [
      "[0 0 1 ... 0 0 1]\n"
     ]
    }
   ],
   "source": [
    "print(y_pred)"
   ]
  },
  {
   "cell_type": "code",
   "execution_count": 164,
   "metadata": {},
   "outputs": [],
   "source": [
    "y_pred=pd.DataFrame(y_pred, columns=['is_subscribed'])"
   ]
  },
  {
   "cell_type": "code",
   "execution_count": 165,
   "metadata": {},
   "outputs": [
    {
     "output_type": "execute_result",
     "data": {
      "text/plain": [
       "       is_subscribed\n",
       "0                  0\n",
       "1                  0\n",
       "2                  1\n",
       "3                  0\n",
       "4                  0\n",
       "...              ...\n",
       "13559              0\n",
       "13560              0\n",
       "13561              0\n",
       "13562              0\n",
       "13563              1\n",
       "\n",
       "[13564 rows x 1 columns]"
      ],
      "text/html": "<div>\n<style scoped>\n    .dataframe tbody tr th:only-of-type {\n        vertical-align: middle;\n    }\n\n    .dataframe tbody tr th {\n        vertical-align: top;\n    }\n\n    .dataframe thead th {\n        text-align: right;\n    }\n</style>\n<table border=\"1\" class=\"dataframe\">\n  <thead>\n    <tr style=\"text-align: right;\">\n      <th></th>\n      <th>is_subscribed</th>\n    </tr>\n  </thead>\n  <tbody>\n    <tr>\n      <th>0</th>\n      <td>0</td>\n    </tr>\n    <tr>\n      <th>1</th>\n      <td>0</td>\n    </tr>\n    <tr>\n      <th>2</th>\n      <td>1</td>\n    </tr>\n    <tr>\n      <th>3</th>\n      <td>0</td>\n    </tr>\n    <tr>\n      <th>4</th>\n      <td>0</td>\n    </tr>\n    <tr>\n      <th>...</th>\n      <td>...</td>\n    </tr>\n    <tr>\n      <th>13559</th>\n      <td>0</td>\n    </tr>\n    <tr>\n      <th>13560</th>\n      <td>0</td>\n    </tr>\n    <tr>\n      <th>13561</th>\n      <td>0</td>\n    </tr>\n    <tr>\n      <th>13562</th>\n      <td>0</td>\n    </tr>\n    <tr>\n      <th>13563</th>\n      <td>1</td>\n    </tr>\n  </tbody>\n</table>\n<p>13564 rows × 1 columns</p>\n</div>"
     },
     "metadata": {},
     "execution_count": 165
    }
   ],
   "source": [
    "y_pred"
   ]
  },
  {
   "cell_type": "code",
   "execution_count": 166,
   "metadata": {},
   "outputs": [],
   "source": [
    "y_pred=y_pred.replace((1, 0), ('TRUE', 'FALSE'))"
   ]
  },
  {
   "cell_type": "code",
   "execution_count": 167,
   "metadata": {},
   "outputs": [
    {
     "output_type": "execute_result",
     "data": {
      "text/plain": [
       "      is_subscribed\n",
       "0             FALSE\n",
       "1             FALSE\n",
       "2              TRUE\n",
       "3             FALSE\n",
       "4             FALSE\n",
       "...             ...\n",
       "13559         FALSE\n",
       "13560         FALSE\n",
       "13561         FALSE\n",
       "13562         FALSE\n",
       "13563          TRUE\n",
       "\n",
       "[13564 rows x 1 columns]"
      ],
      "text/html": "<div>\n<style scoped>\n    .dataframe tbody tr th:only-of-type {\n        vertical-align: middle;\n    }\n\n    .dataframe tbody tr th {\n        vertical-align: top;\n    }\n\n    .dataframe thead th {\n        text-align: right;\n    }\n</style>\n<table border=\"1\" class=\"dataframe\">\n  <thead>\n    <tr style=\"text-align: right;\">\n      <th></th>\n      <th>is_subscribed</th>\n    </tr>\n  </thead>\n  <tbody>\n    <tr>\n      <th>0</th>\n      <td>FALSE</td>\n    </tr>\n    <tr>\n      <th>1</th>\n      <td>FALSE</td>\n    </tr>\n    <tr>\n      <th>2</th>\n      <td>TRUE</td>\n    </tr>\n    <tr>\n      <th>3</th>\n      <td>FALSE</td>\n    </tr>\n    <tr>\n      <th>4</th>\n      <td>FALSE</td>\n    </tr>\n    <tr>\n      <th>...</th>\n      <td>...</td>\n    </tr>\n    <tr>\n      <th>13559</th>\n      <td>FALSE</td>\n    </tr>\n    <tr>\n      <th>13560</th>\n      <td>FALSE</td>\n    </tr>\n    <tr>\n      <th>13561</th>\n      <td>FALSE</td>\n    </tr>\n    <tr>\n      <th>13562</th>\n      <td>FALSE</td>\n    </tr>\n    <tr>\n      <th>13563</th>\n      <td>TRUE</td>\n    </tr>\n  </tbody>\n</table>\n<p>13564 rows × 1 columns</p>\n</div>"
     },
     "metadata": {},
     "execution_count": 167
    }
   ],
   "source": [
    "y_pred"
   ]
  },
  {
   "cell_type": "code",
   "execution_count": 168,
   "metadata": {},
   "outputs": [],
   "source": [
    "id=test_data['customer_id']"
   ]
  },
  {
   "cell_type": "code",
   "execution_count": 169,
   "metadata": {},
   "outputs": [
    {
     "output_type": "execute_result",
     "data": {
      "text/plain": [
       "0        22154\n",
       "1        31186\n",
       "2        42151\n",
       "3        14944\n",
       "4        13657\n",
       "         ...  \n",
       "13559    43181\n",
       "13560    37261\n",
       "13561    39647\n",
       "13562    11882\n",
       "13563    53479\n",
       "Name: customer_id, Length: 13564, dtype: int64"
      ]
     },
     "metadata": {},
     "execution_count": 169
    }
   ],
   "source": [
    "id"
   ]
  },
  {
   "cell_type": "code",
   "execution_count": 172,
   "metadata": {},
   "outputs": [],
   "source": [
    "final_df=pd.concat([id, y_pred],axis=1)"
   ]
  },
  {
   "cell_type": "code",
   "execution_count": 173,
   "metadata": {},
   "outputs": [
    {
     "output_type": "execute_result",
     "data": {
      "text/plain": [
       "       customer_id is_subscribed\n",
       "0            22154         FALSE\n",
       "1            31186         FALSE\n",
       "2            42151          TRUE\n",
       "3            14944         FALSE\n",
       "4            13657         FALSE\n",
       "...            ...           ...\n",
       "13559        43181         FALSE\n",
       "13560        37261         FALSE\n",
       "13561        39647         FALSE\n",
       "13562        11882         FALSE\n",
       "13563        53479          TRUE\n",
       "\n",
       "[13564 rows x 2 columns]"
      ],
      "text/html": "<div>\n<style scoped>\n    .dataframe tbody tr th:only-of-type {\n        vertical-align: middle;\n    }\n\n    .dataframe tbody tr th {\n        vertical-align: top;\n    }\n\n    .dataframe thead th {\n        text-align: right;\n    }\n</style>\n<table border=\"1\" class=\"dataframe\">\n  <thead>\n    <tr style=\"text-align: right;\">\n      <th></th>\n      <th>customer_id</th>\n      <th>is_subscribed</th>\n    </tr>\n  </thead>\n  <tbody>\n    <tr>\n      <th>0</th>\n      <td>22154</td>\n      <td>FALSE</td>\n    </tr>\n    <tr>\n      <th>1</th>\n      <td>31186</td>\n      <td>FALSE</td>\n    </tr>\n    <tr>\n      <th>2</th>\n      <td>42151</td>\n      <td>TRUE</td>\n    </tr>\n    <tr>\n      <th>3</th>\n      <td>14944</td>\n      <td>FALSE</td>\n    </tr>\n    <tr>\n      <th>4</th>\n      <td>13657</td>\n      <td>FALSE</td>\n    </tr>\n    <tr>\n      <th>...</th>\n      <td>...</td>\n      <td>...</td>\n    </tr>\n    <tr>\n      <th>13559</th>\n      <td>43181</td>\n      <td>FALSE</td>\n    </tr>\n    <tr>\n      <th>13560</th>\n      <td>37261</td>\n      <td>FALSE</td>\n    </tr>\n    <tr>\n      <th>13561</th>\n      <td>39647</td>\n      <td>FALSE</td>\n    </tr>\n    <tr>\n      <th>13562</th>\n      <td>11882</td>\n      <td>FALSE</td>\n    </tr>\n    <tr>\n      <th>13563</th>\n      <td>53479</td>\n      <td>TRUE</td>\n    </tr>\n  </tbody>\n</table>\n<p>13564 rows × 2 columns</p>\n</div>"
     },
     "metadata": {},
     "execution_count": 173
    }
   ],
   "source": [
    "final_df"
   ]
  },
  {
   "cell_type": "code",
   "execution_count": 174,
   "metadata": {},
   "outputs": [],
   "source": [
    "final_df.to_csv('sample_warriors.csv', index=False)"
   ]
  },
  {
   "cell_type": "code",
   "execution_count": null,
   "metadata": {},
   "outputs": [],
   "source": []
  }
 ]
}