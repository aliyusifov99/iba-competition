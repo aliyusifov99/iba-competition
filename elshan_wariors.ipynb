{
 "cells": [
  {
   "cell_type": "code",
   "execution_count": 20,
   "metadata": {},
   "outputs": [],
   "source": [
    "import pandas as pd \n",
    "import numpy as np \n",
    "import matplotlib.pyplot as plt \n",
    "from sklearn.preprocessing import LabelEncoder"
   ]
  },
  {
   "cell_type": "code",
   "execution_count": 105,
   "metadata": {},
   "outputs": [],
   "source": [
    "df = pd.read_csv('train.csv')"
   ]
  },
  {
   "cell_type": "code",
   "execution_count": 106,
   "metadata": {},
   "outputs": [
    {
     "data": {
      "text/html": [
       "<div>\n",
       "<style scoped>\n",
       "    .dataframe tbody tr th:only-of-type {\n",
       "        vertical-align: middle;\n",
       "    }\n",
       "\n",
       "    .dataframe tbody tr th {\n",
       "        vertical-align: top;\n",
       "    }\n",
       "\n",
       "    .dataframe thead th {\n",
       "        text-align: right;\n",
       "    }\n",
       "</style>\n",
       "<table border=\"1\" class=\"dataframe\">\n",
       "  <thead>\n",
       "    <tr style=\"text-align: right;\">\n",
       "      <th></th>\n",
       "      <th>customer_id</th>\n",
       "      <th>cust_age</th>\n",
       "      <th>job_title</th>\n",
       "      <th>marital_status</th>\n",
       "      <th>education</th>\n",
       "      <th>has_default_loan</th>\n",
       "      <th>cust_balance</th>\n",
       "      <th>has_mortgage_loan</th>\n",
       "      <th>has_personal_loan</th>\n",
       "      <th>contact_channel</th>\n",
       "      <th>contact_day</th>\n",
       "      <th>contact_month</th>\n",
       "      <th>contact_duration</th>\n",
       "      <th>campaign</th>\n",
       "      <th>pdays</th>\n",
       "      <th>previous_contacts</th>\n",
       "      <th>previous_outcome</th>\n",
       "      <th>is_subscribed</th>\n",
       "    </tr>\n",
       "  </thead>\n",
       "  <tbody>\n",
       "    <tr>\n",
       "      <th>0</th>\n",
       "      <td>11218</td>\n",
       "      <td>48.0</td>\n",
       "      <td>blue-collar</td>\n",
       "      <td>single</td>\n",
       "      <td>NaN</td>\n",
       "      <td>no</td>\n",
       "      <td>71.0</td>\n",
       "      <td>yes</td>\n",
       "      <td>no</td>\n",
       "      <td>NaN</td>\n",
       "      <td>8</td>\n",
       "      <td>may</td>\n",
       "      <td>101</td>\n",
       "      <td>2</td>\n",
       "      <td>-1</td>\n",
       "      <td>0</td>\n",
       "      <td>NaN</td>\n",
       "      <td>False</td>\n",
       "    </tr>\n",
       "    <tr>\n",
       "      <th>1</th>\n",
       "      <td>30655</td>\n",
       "      <td>60.0</td>\n",
       "      <td>pensioner</td>\n",
       "      <td>married</td>\n",
       "      <td>secondary</td>\n",
       "      <td>no</td>\n",
       "      <td>781.0</td>\n",
       "      <td>yes</td>\n",
       "      <td>yes</td>\n",
       "      <td>social-network</td>\n",
       "      <td>12</td>\n",
       "      <td>aug</td>\n",
       "      <td>128</td>\n",
       "      <td>5</td>\n",
       "      <td>-1</td>\n",
       "      <td>0</td>\n",
       "      <td>NaN</td>\n",
       "      <td>False</td>\n",
       "    </tr>\n",
       "    <tr>\n",
       "      <th>2</th>\n",
       "      <td>24190</td>\n",
       "      <td>34.0</td>\n",
       "      <td>blue-collar</td>\n",
       "      <td>married</td>\n",
       "      <td>secondary</td>\n",
       "      <td>no</td>\n",
       "      <td>157.0</td>\n",
       "      <td>yes</td>\n",
       "      <td>no</td>\n",
       "      <td>social-network</td>\n",
       "      <td>11</td>\n",
       "      <td>jul</td>\n",
       "      <td>254</td>\n",
       "      <td>2</td>\n",
       "      <td>-1</td>\n",
       "      <td>0</td>\n",
       "      <td>NaN</td>\n",
       "      <td>False</td>\n",
       "    </tr>\n",
       "    <tr>\n",
       "      <th>3</th>\n",
       "      <td>26270</td>\n",
       "      <td>50.0</td>\n",
       "      <td>manager</td>\n",
       "      <td>married</td>\n",
       "      <td>university-degree</td>\n",
       "      <td>no</td>\n",
       "      <td>29.0</td>\n",
       "      <td>no</td>\n",
       "      <td>yes</td>\n",
       "      <td>NaN</td>\n",
       "      <td>23</td>\n",
       "      <td>jul</td>\n",
       "      <td>104</td>\n",
       "      <td>1</td>\n",
       "      <td>-1</td>\n",
       "      <td>0</td>\n",
       "      <td>NaN</td>\n",
       "      <td>False</td>\n",
       "    </tr>\n",
       "    <tr>\n",
       "      <th>4</th>\n",
       "      <td>20989</td>\n",
       "      <td>60.0</td>\n",
       "      <td>manager</td>\n",
       "      <td>married</td>\n",
       "      <td>university-degree</td>\n",
       "      <td>no</td>\n",
       "      <td>3301.0</td>\n",
       "      <td>no</td>\n",
       "      <td>no</td>\n",
       "      <td>NaN</td>\n",
       "      <td>17</td>\n",
       "      <td>jun</td>\n",
       "      <td>2621</td>\n",
       "      <td>3</td>\n",
       "      <td>-1</td>\n",
       "      <td>0</td>\n",
       "      <td>NaN</td>\n",
       "      <td>True</td>\n",
       "    </tr>\n",
       "  </tbody>\n",
       "</table>\n",
       "</div>"
      ],
      "text/plain": [
       "   customer_id cust_age    job_title marital_status          education  \\\n",
       "0        11218     48.0  blue-collar         single                NaN   \n",
       "1        30655     60.0    pensioner        married          secondary   \n",
       "2        24190     34.0  blue-collar        married          secondary   \n",
       "3        26270     50.0      manager        married  university-degree   \n",
       "4        20989     60.0      manager        married  university-degree   \n",
       "\n",
       "  has_default_loan cust_balance has_mortgage_loan has_personal_loan  \\\n",
       "0               no         71.0               yes                no   \n",
       "1               no        781.0               yes               yes   \n",
       "2               no        157.0               yes                no   \n",
       "3               no         29.0                no               yes   \n",
       "4               no       3301.0                no                no   \n",
       "\n",
       "  contact_channel  contact_day contact_month  contact_duration  campaign  \\\n",
       "0             NaN            8           may               101         2   \n",
       "1  social-network           12           aug               128         5   \n",
       "2  social-network           11           jul               254         2   \n",
       "3             NaN           23           jul               104         1   \n",
       "4             NaN           17           jun              2621         3   \n",
       "\n",
       "   pdays  previous_contacts previous_outcome  is_subscribed  \n",
       "0     -1                  0              NaN          False  \n",
       "1     -1                  0              NaN          False  \n",
       "2     -1                  0              NaN          False  \n",
       "3     -1                  0              NaN          False  \n",
       "4     -1                  0              NaN           True  "
      ]
     },
     "execution_count": 106,
     "metadata": {},
     "output_type": "execute_result"
    }
   ],
   "source": [
    "df.head()"
   ]
  },
  {
   "cell_type": "code",
   "execution_count": 107,
   "metadata": {},
   "outputs": [
    {
     "data": {
      "text/plain": [
       "customer_id              0\n",
       "cust_age               307\n",
       "job_title              204\n",
       "marital_status           0\n",
       "education             1325\n",
       "has_default_loan         0\n",
       "cust_balance           373\n",
       "has_mortgage_loan        0\n",
       "has_personal_loan        0\n",
       "contact_channel       9151\n",
       "contact_day              0\n",
       "contact_month            0\n",
       "contact_duration         0\n",
       "campaign                 0\n",
       "pdays                    0\n",
       "previous_contacts        0\n",
       "previous_outcome     25889\n",
       "is_subscribed            0\n",
       "dtype: int64"
      ]
     },
     "execution_count": 107,
     "metadata": {},
     "output_type": "execute_result"
    }
   ],
   "source": [
    "df.isna().sum()"
   ]
  },
  {
   "cell_type": "code",
   "execution_count": 108,
   "metadata": {},
   "outputs": [],
   "source": [
    "from sklearn.ensemble import GradientBoostingClassifier\n",
    "from catboost import CatBoostClassifier\n",
    "from sklearn.pipeline import Pipeline\n",
    "from sklearn.compose import ColumnTransformer\n",
    "from sklearn.preprocessing import StandardScaler, OneHotEncoder\n",
    "from sklearn.model_selection import StratifiedKFold\n",
    "from imblearn.under_sampling import RandomUnderSampler\n",
    "from sklearn.impute import SimpleImputer\n",
    "from sklearn.metrics import classification_report, f1_score\n",
    "from sklearn.impute import KNNImputer"
   ]
  },
  {
   "cell_type": "code",
   "execution_count": 109,
   "metadata": {},
   "outputs": [],
   "source": [
    "df[['cust_age','cust_balance']] = df[['cust_age','cust_balance']].astype(str)\n",
    "\n",
    "df['cust_age'] = df['cust_age'].map(lambda df: df.rstrip('/r').rstrip('/'))\n",
    "df['cust_balance']= df['cust_balance'].map(lambda df: df.rstrip('/r').lstrip('/'))\n",
    "\n",
    "df['cust_balance'] = df['cust_balance'].str.extract('(\\d+)', expand=False)\n",
    "df['cust_balance']= df['cust_balance'].astype(float)\n",
    "\n",
    "df['contact_day'] = df['contact_day'].astype(str)\n",
    "\n",
    "# encoder=LabelEncoder()\n",
    "# df['is_subscribed']=encoder.fit_transform(df['is_subscribed'])"
   ]
  },
  {
   "cell_type": "code",
   "execution_count": null,
   "metadata": {},
   "outputs": [],
   "source": []
  },
  {
   "cell_type": "code",
   "execution_count": 110,
   "metadata": {},
   "outputs": [
    {
     "data": {
      "text/html": [
       "<div>\n",
       "<style scoped>\n",
       "    .dataframe tbody tr th:only-of-type {\n",
       "        vertical-align: middle;\n",
       "    }\n",
       "\n",
       "    .dataframe tbody tr th {\n",
       "        vertical-align: top;\n",
       "    }\n",
       "\n",
       "    .dataframe thead th {\n",
       "        text-align: right;\n",
       "    }\n",
       "</style>\n",
       "<table border=\"1\" class=\"dataframe\">\n",
       "  <thead>\n",
       "    <tr style=\"text-align: right;\">\n",
       "      <th></th>\n",
       "      <th>customer_id</th>\n",
       "      <th>cust_age</th>\n",
       "      <th>job_title</th>\n",
       "      <th>marital_status</th>\n",
       "      <th>education</th>\n",
       "      <th>has_default_loan</th>\n",
       "      <th>cust_balance</th>\n",
       "      <th>has_mortgage_loan</th>\n",
       "      <th>has_personal_loan</th>\n",
       "      <th>contact_channel</th>\n",
       "      <th>contact_day</th>\n",
       "      <th>contact_month</th>\n",
       "      <th>contact_duration</th>\n",
       "      <th>campaign</th>\n",
       "      <th>pdays</th>\n",
       "      <th>previous_contacts</th>\n",
       "      <th>previous_outcome</th>\n",
       "      <th>is_subscribed</th>\n",
       "    </tr>\n",
       "  </thead>\n",
       "  <tbody>\n",
       "    <tr>\n",
       "      <th>0</th>\n",
       "      <td>11218</td>\n",
       "      <td>48.0</td>\n",
       "      <td>blue-collar</td>\n",
       "      <td>single</td>\n",
       "      <td>NaN</td>\n",
       "      <td>no</td>\n",
       "      <td>71.0</td>\n",
       "      <td>yes</td>\n",
       "      <td>no</td>\n",
       "      <td>NaN</td>\n",
       "      <td>8</td>\n",
       "      <td>may</td>\n",
       "      <td>101</td>\n",
       "      <td>2</td>\n",
       "      <td>-1</td>\n",
       "      <td>0</td>\n",
       "      <td>NaN</td>\n",
       "      <td>False</td>\n",
       "    </tr>\n",
       "    <tr>\n",
       "      <th>1</th>\n",
       "      <td>30655</td>\n",
       "      <td>60.0</td>\n",
       "      <td>pensioner</td>\n",
       "      <td>married</td>\n",
       "      <td>secondary</td>\n",
       "      <td>no</td>\n",
       "      <td>781.0</td>\n",
       "      <td>yes</td>\n",
       "      <td>yes</td>\n",
       "      <td>social-network</td>\n",
       "      <td>12</td>\n",
       "      <td>aug</td>\n",
       "      <td>128</td>\n",
       "      <td>5</td>\n",
       "      <td>-1</td>\n",
       "      <td>0</td>\n",
       "      <td>NaN</td>\n",
       "      <td>False</td>\n",
       "    </tr>\n",
       "  </tbody>\n",
       "</table>\n",
       "</div>"
      ],
      "text/plain": [
       "   customer_id cust_age    job_title marital_status  education  \\\n",
       "0        11218     48.0  blue-collar         single        NaN   \n",
       "1        30655     60.0    pensioner        married  secondary   \n",
       "\n",
       "  has_default_loan  cust_balance has_mortgage_loan has_personal_loan  \\\n",
       "0               no          71.0               yes                no   \n",
       "1               no         781.0               yes               yes   \n",
       "\n",
       "  contact_channel contact_day contact_month  contact_duration  campaign  \\\n",
       "0             NaN           8           may               101         2   \n",
       "1  social-network          12           aug               128         5   \n",
       "\n",
       "   pdays  previous_contacts previous_outcome  is_subscribed  \n",
       "0     -1                  0              NaN          False  \n",
       "1     -1                  0              NaN          False  "
      ]
     },
     "execution_count": 110,
     "metadata": {},
     "output_type": "execute_result"
    }
   ],
   "source": [
    "df.head(2)"
   ]
  },
  {
   "cell_type": "code",
   "execution_count": 111,
   "metadata": {},
   "outputs": [
    {
     "name": "stdout",
     "output_type": "stream",
     "text": [
      "<class 'pandas.core.frame.DataFrame'>\n",
      "RangeIndex: 31647 entries, 0 to 31646\n",
      "Data columns (total 18 columns):\n",
      " #   Column             Non-Null Count  Dtype  \n",
      "---  ------             --------------  -----  \n",
      " 0   customer_id        31647 non-null  int64  \n",
      " 1   cust_age           31647 non-null  object \n",
      " 2   job_title          31443 non-null  object \n",
      " 3   marital_status     31647 non-null  object \n",
      " 4   education          30322 non-null  object \n",
      " 5   has_default_loan   31647 non-null  object \n",
      " 6   cust_balance       31272 non-null  float64\n",
      " 7   has_mortgage_loan  31647 non-null  object \n",
      " 8   has_personal_loan  31647 non-null  object \n",
      " 9   contact_channel    22496 non-null  object \n",
      " 10  contact_day        31647 non-null  object \n",
      " 11  contact_month      31647 non-null  object \n",
      " 12  contact_duration   31647 non-null  int64  \n",
      " 13  campaign           31647 non-null  int64  \n",
      " 14  pdays              31647 non-null  int64  \n",
      " 15  previous_contacts  31647 non-null  int64  \n",
      " 16  previous_outcome   5758 non-null   object \n",
      " 17  is_subscribed      31647 non-null  bool   \n",
      "dtypes: bool(1), float64(1), int64(5), object(11)\n",
      "memory usage: 4.1+ MB\n"
     ]
    }
   ],
   "source": [
    "df.info()"
   ]
  },
  {
   "cell_type": "code",
   "execution_count": 112,
   "metadata": {},
   "outputs": [
    {
     "data": {
      "text/plain": [
       "customer_id              0\n",
       "cust_age                 0\n",
       "job_title              204\n",
       "marital_status           0\n",
       "education             1325\n",
       "has_default_loan         0\n",
       "cust_balance           375\n",
       "has_mortgage_loan        0\n",
       "has_personal_loan        0\n",
       "contact_channel       9151\n",
       "contact_day              0\n",
       "contact_month            0\n",
       "contact_duration         0\n",
       "campaign                 0\n",
       "pdays                    0\n",
       "previous_contacts        0\n",
       "previous_outcome     25889\n",
       "is_subscribed            0\n",
       "dtype: int64"
      ]
     },
     "execution_count": 112,
     "metadata": {},
     "output_type": "execute_result"
    }
   ],
   "source": [
    "df.isna().sum()"
   ]
  },
  {
   "cell_type": "code",
   "execution_count": 113,
   "metadata": {},
   "outputs": [
    {
     "data": {
      "text/plain": [
       "failure    3408\n",
       "other      1286\n",
       "success    1064\n",
       "Name: previous_outcome, dtype: int64"
      ]
     },
     "execution_count": 113,
     "metadata": {},
     "output_type": "execute_result"
    }
   ],
   "source": [
    "df['previous_outcome'].value_counts()"
   ]
  },
  {
   "cell_type": "code",
   "execution_count": 114,
   "metadata": {},
   "outputs": [],
   "source": [
    "df['job_title'] = df['job_title'].fillna('working-from-home')\n",
    "df['education'] = df['education'].fillna('no-ed')\n",
    "df['cust_balance'] = df['cust_balance'].fillna(np.mean(df['cust_balance']))\n",
    "df['contact_channel'] = df['contact_channel'].fillna('no_contact')\n",
    "df['previous_outcome'] = df['previous_outcome'].fillna('none_outcome')"
   ]
  },
  {
   "cell_type": "code",
   "execution_count": null,
   "metadata": {},
   "outputs": [],
   "source": []
  },
  {
   "cell_type": "code",
   "execution_count": null,
   "metadata": {},
   "outputs": [],
   "source": []
  },
  {
   "cell_type": "code",
   "execution_count": null,
   "metadata": {},
   "outputs": [],
   "source": []
  },
  {
   "cell_type": "code",
   "execution_count": 23,
   "metadata": {},
   "outputs": [
    {
     "data": {
      "text/plain": [
       "Index(['customer_id', 'cust_age', 'job_title', 'marital_status', 'education',\n",
       "       'has_default_loan', 'cust_balance', 'has_mortgage_loan',\n",
       "       'has_personal_loan', 'contact_channel', 'contact_day', 'contact_month',\n",
       "       'contact_duration', 'campaign', 'pdays', 'previous_contacts',\n",
       "       'previous_outcome', 'is_subscribed'],\n",
       "      dtype='object')"
      ]
     },
     "execution_count": 23,
     "metadata": {},
     "output_type": "execute_result"
    }
   ],
   "source": [
    "df.columns"
   ]
  },
  {
   "cell_type": "code",
   "execution_count": 115,
   "metadata": {},
   "outputs": [],
   "source": [
    "numeric = ['cust_balance', 'campaign', 'contact_duration', 'pdays', 'previous_contacts']\n",
    "categorical = ['marital_status', 'education', 'has_default_loan','job_title', \n",
    "               'has_mortgage_loan', 'previous_outcome', 'has_personal_loan', \n",
    "               'contact_channel', 'contact_day', 'contact_month']"
   ]
  },
  {
   "cell_type": "code",
   "execution_count": 116,
   "metadata": {},
   "outputs": [],
   "source": [
    "X = df[numeric+categorical]\n",
    "y = df['is_subscribed']"
   ]
  },
  {
   "cell_type": "code",
   "execution_count": 117,
   "metadata": {},
   "outputs": [
    {
     "name": "stdout",
     "output_type": "stream",
     "text": [
      "<class 'pandas.core.frame.DataFrame'>\n",
      "RangeIndex: 31647 entries, 0 to 31646\n",
      "Data columns (total 15 columns):\n",
      " #   Column             Non-Null Count  Dtype  \n",
      "---  ------             --------------  -----  \n",
      " 0   cust_balance       31647 non-null  float64\n",
      " 1   campaign           31647 non-null  int64  \n",
      " 2   contact_duration   31647 non-null  int64  \n",
      " 3   pdays              31647 non-null  int64  \n",
      " 4   previous_contacts  31647 non-null  int64  \n",
      " 5   marital_status     31647 non-null  object \n",
      " 6   education          31647 non-null  object \n",
      " 7   has_default_loan   31647 non-null  object \n",
      " 8   job_title          31647 non-null  object \n",
      " 9   has_mortgage_loan  31647 non-null  object \n",
      " 10  previous_outcome   31647 non-null  object \n",
      " 11  has_personal_loan  31647 non-null  object \n",
      " 12  contact_channel    31647 non-null  object \n",
      " 13  contact_day        31647 non-null  object \n",
      " 14  contact_month      31647 non-null  object \n",
      "dtypes: float64(1), int64(4), object(10)\n",
      "memory usage: 3.6+ MB\n"
     ]
    }
   ],
   "source": [
    "X.info()"
   ]
  },
  {
   "cell_type": "code",
   "execution_count": null,
   "metadata": {},
   "outputs": [],
   "source": []
  },
  {
   "cell_type": "code",
   "execution_count": null,
   "metadata": {},
   "outputs": [],
   "source": []
  },
  {
   "cell_type": "code",
   "execution_count": 119,
   "metadata": {},
   "outputs": [
    {
     "data": {
      "text/plain": [
       "Pipeline(steps=[('preprocessing',\n",
       "                 ColumnTransformer(transformers=[('numeric',\n",
       "                                                  Pipeline(steps=[('scale',\n",
       "                                                                   StandardScaler())]),\n",
       "                                                  ['cust_balance', 'campaign',\n",
       "                                                   'contact_duration', 'pdays',\n",
       "                                                   'previous_contacts']),\n",
       "                                                 ('categorical',\n",
       "                                                  Pipeline(steps=[('ohe',\n",
       "                                                                   OneHotEncoder())]),\n",
       "                                                  ['marital_status',\n",
       "                                                   'education',\n",
       "                                                   'has_default_loan',\n",
       "                                                   'job_title',\n",
       "                                                   'has_mortgage_loan',\n",
       "                                                   'previous_outcome',\n",
       "                                                   'has_personal_loan',\n",
       "                                                   'contact_channel',\n",
       "                                                   'contact_day',\n",
       "                                                   'contact_month'])])),\n",
       "                ('classifier',\n",
       "                 <catboost.core.CatBoostClassifier object at 0x000001CE2C3B6640>)])"
      ]
     },
     "execution_count": 119,
     "metadata": {},
     "output_type": "execute_result"
    }
   ],
   "source": [
    "pipe = Pipeline(steps=[\n",
    "        ('preprocessing', ColumnTransformer(transformers=[\n",
    "            ('numeric', Pipeline(steps=[\n",
    "                ('scale', StandardScaler())\n",
    "            ]), numeric),\n",
    "            ('categorical', Pipeline(steps=[\n",
    "                ('ohe', OneHotEncoder())\n",
    "            ]), categorical),\n",
    "        ])),\n",
    "        ('classifier', CatBoostClassifier(verbose=False))\n",
    "])\n",
    "pipe.fit(X, y)"
   ]
  },
  {
   "cell_type": "code",
   "execution_count": null,
   "metadata": {},
   "outputs": [],
   "source": []
  },
  {
   "cell_type": "code",
   "execution_count": 77,
   "metadata": {
    "scrolled": false
   },
   "outputs": [
    {
     "name": "stdout",
     "output_type": "stream",
     "text": [
      "0.5522151898734178\n",
      "0.5567010309278351\n",
      "0.5445935280189423\n",
      "0.5369649805447471\n",
      "0.5329153605015674\n",
      "0.544678017973302\n"
     ]
    }
   ],
   "source": [
    "## Catboost\n",
    "sss = StratifiedKFold()\n",
    "f1 = []\n",
    "pipe = Pipeline(steps=[\n",
    "        ('preprocessing', ColumnTransformer(transformers=[\n",
    "            ('numeric', Pipeline(steps=[\n",
    "                ('scale', StandardScaler())\n",
    "            ]), numeric),\n",
    "            ('categorical', Pipeline(steps=[\n",
    "                ('ohe', OneHotEncoder())\n",
    "            ]), categorical),\n",
    "        ])),\n",
    "        ('classifier', CatBoostClassifier(verbose=False))\n",
    "    ])\n",
    "for train_idx, test_idx in sss.split(X, y):\n",
    "    X_train, X_test = X.iloc[train_idx], X.iloc[test_idx]\n",
    "    y_train, y_test = y.iloc[train_idx], y.iloc[test_idx]\n",
    "    pipe.fit(X_train, y_train)\n",
    "    y_predicted=pipe.predict(X_test)\n",
    "    f_score = f1_score(y_test, y_predicted)\n",
    "    print(f_score)\n",
    "    f1.append(f_score)\n",
    "    \n",
    "print(np.mean(f1))"
   ]
  },
  {
   "cell_type": "code",
   "execution_count": 78,
   "metadata": {},
   "outputs": [
    {
     "name": "stdout",
     "output_type": "stream",
     "text": [
      "0.544678017973302\n"
     ]
    }
   ],
   "source": [
    "print(np.mean(f1))"
   ]
  },
  {
   "cell_type": "code",
   "execution_count": null,
   "metadata": {},
   "outputs": [],
   "source": []
  },
  {
   "cell_type": "code",
   "execution_count": null,
   "metadata": {},
   "outputs": [],
   "source": []
  },
  {
   "cell_type": "code",
   "execution_count": null,
   "metadata": {},
   "outputs": [],
   "source": []
  },
  {
   "cell_type": "markdown",
   "metadata": {},
   "source": [
    "### Load and predict on test  "
   ]
  },
  {
   "cell_type": "code",
   "execution_count": 120,
   "metadata": {},
   "outputs": [],
   "source": [
    "test_df = pd.read_csv('test.csv')"
   ]
  },
  {
   "cell_type": "code",
   "execution_count": 121,
   "metadata": {},
   "outputs": [
    {
     "data": {
      "text/plain": [
       "(13564, 17)"
      ]
     },
     "execution_count": 121,
     "metadata": {},
     "output_type": "execute_result"
    }
   ],
   "source": [
    "test_df.shape"
   ]
  },
  {
   "cell_type": "code",
   "execution_count": 122,
   "metadata": {},
   "outputs": [
    {
     "name": "stdout",
     "output_type": "stream",
     "text": [
      "<class 'pandas.core.frame.DataFrame'>\n",
      "RangeIndex: 13564 entries, 0 to 13563\n",
      "Data columns (total 17 columns):\n",
      " #   Column             Non-Null Count  Dtype \n",
      "---  ------             --------------  ----- \n",
      " 0   customer_id        13564 non-null  int64 \n",
      " 1   cust_age           13422 non-null  object\n",
      " 2   job_title          13480 non-null  object\n",
      " 3   marital_status     13564 non-null  object\n",
      " 4   education          13032 non-null  object\n",
      " 5   has_default_loan   13564 non-null  object\n",
      " 6   cust_balance       13403 non-null  object\n",
      " 7   has_mortgage_loan  13564 non-null  object\n",
      " 8   has_personal_loan  13564 non-null  object\n",
      " 9   contact_channel    9695 non-null   object\n",
      " 10  contact_day        13564 non-null  int64 \n",
      " 11  contact_month      13564 non-null  object\n",
      " 12  contact_duration   13564 non-null  int64 \n",
      " 13  campaign           13564 non-null  int64 \n",
      " 14  pdays              13564 non-null  int64 \n",
      " 15  previous_contacts  13564 non-null  int64 \n",
      " 16  previous_outcome   2494 non-null   object\n",
      "dtypes: int64(6), object(11)\n",
      "memory usage: 1.8+ MB\n"
     ]
    }
   ],
   "source": [
    "test_df.info()"
   ]
  },
  {
   "cell_type": "code",
   "execution_count": 123,
   "metadata": {},
   "outputs": [],
   "source": [
    "test_df[['cust_age','cust_balance']] = test_df[['cust_age','cust_balance']].astype(str)\n",
    "\n",
    "test_df['cust_age'] = test_df['cust_age'].map(lambda test_df: test_df.rstrip('/r').rstrip('/'))\n",
    "test_df['cust_balance']= test_df['cust_balance'].map(lambda test_df: test_df.rstrip('/r').lstrip('/'))\n",
    "\n",
    "test_df['cust_balance'] = test_df['cust_balance'].str.extract('(\\d+)', expand=False)\n",
    "test_df['cust_balance']= test_df['cust_balance'].astype(float)\n",
    "\n",
    "test_df['contact_day'] = test_df['contact_day'].astype(str)\n",
    "\n",
    "# encoder=LabelEncoder()\n",
    "# test_df['is_subscribed']=encoder.fit_transform(test_df['is_subscribed'])"
   ]
  },
  {
   "cell_type": "code",
   "execution_count": 124,
   "metadata": {},
   "outputs": [],
   "source": [
    "test_df['job_title'] = test_df['job_title'].fillna('working-from-home')\n",
    "test_df['education'] = test_df['education'].fillna('no-ed')\n",
    "test_df['cust_balance'] = test_df['cust_balance'].fillna(np.mean(test_df['cust_balance']))\n",
    "test_df['contact_channel'] = test_df['contact_channel'].fillna('no_contact')\n",
    "test_df['previous_outcome'] = test_df['previous_outcome'].fillna('none_outcome')"
   ]
  },
  {
   "cell_type": "code",
   "execution_count": null,
   "metadata": {},
   "outputs": [],
   "source": []
  },
  {
   "cell_type": "code",
   "execution_count": 125,
   "metadata": {},
   "outputs": [],
   "source": [
    "testX = test_df[numeric+categorical]"
   ]
  },
  {
   "cell_type": "code",
   "execution_count": null,
   "metadata": {},
   "outputs": [],
   "source": []
  },
  {
   "cell_type": "code",
   "execution_count": null,
   "metadata": {},
   "outputs": [],
   "source": []
  },
  {
   "cell_type": "code",
   "execution_count": 153,
   "metadata": {
    "scrolled": false
   },
   "outputs": [
    {
     "data": {
      "text/plain": [
       "array(['False', 'False', 'True', ..., 'False', 'False', 'True'],\n",
       "      dtype=object)"
      ]
     },
     "execution_count": 153,
     "metadata": {},
     "output_type": "execute_result"
    }
   ],
   "source": [
    "result = pipe.predict(testX)\n",
    "result"
   ]
  },
  {
   "cell_type": "code",
   "execution_count": 154,
   "metadata": {},
   "outputs": [],
   "source": [
    "result = pd.Series(result).apply(lambda x: True if x=='True' else False)"
   ]
  },
  {
   "cell_type": "code",
   "execution_count": 155,
   "metadata": {},
   "outputs": [],
   "source": [
    "submission = pd.read_csv('sample_submission.csv')"
   ]
  },
  {
   "cell_type": "code",
   "execution_count": 156,
   "metadata": {},
   "outputs": [],
   "source": [
    "submission['is_subscribed'] = result"
   ]
  },
  {
   "cell_type": "code",
   "execution_count": 160,
   "metadata": {},
   "outputs": [],
   "source": [
    "submission.to_csv('submissions/elshan/submission_elshan_01.', index=False)"
   ]
  },
  {
   "cell_type": "code",
   "execution_count": 161,
   "metadata": {},
   "outputs": [
    {
     "name": "stdout",
     "output_type": "stream",
     "text": [
      "<class 'pandas.core.frame.DataFrame'>\n",
      "RangeIndex: 13564 entries, 0 to 13563\n",
      "Data columns (total 2 columns):\n",
      " #   Column         Non-Null Count  Dtype\n",
      "---  ------         --------------  -----\n",
      " 0   customer_id    13564 non-null  int64\n",
      " 1   is_subscribed  13564 non-null  bool \n",
      "dtypes: bool(1), int64(1)\n",
      "memory usage: 119.3 KB\n"
     ]
    }
   ],
   "source": [
    "submission.info()"
   ]
  },
  {
   "cell_type": "code",
   "execution_count": 159,
   "metadata": {},
   "outputs": [
    {
     "data": {
      "text/html": [
       "<div>\n",
       "<style scoped>\n",
       "    .dataframe tbody tr th:only-of-type {\n",
       "        vertical-align: middle;\n",
       "    }\n",
       "\n",
       "    .dataframe tbody tr th {\n",
       "        vertical-align: top;\n",
       "    }\n",
       "\n",
       "    .dataframe thead th {\n",
       "        text-align: right;\n",
       "    }\n",
       "</style>\n",
       "<table border=\"1\" class=\"dataframe\">\n",
       "  <thead>\n",
       "    <tr style=\"text-align: right;\">\n",
       "      <th></th>\n",
       "      <th>customer_id</th>\n",
       "      <th>is_subscribed</th>\n",
       "    </tr>\n",
       "  </thead>\n",
       "  <tbody>\n",
       "    <tr>\n",
       "      <th>0</th>\n",
       "      <td>22154</td>\n",
       "      <td>False</td>\n",
       "    </tr>\n",
       "    <tr>\n",
       "      <th>1</th>\n",
       "      <td>31186</td>\n",
       "      <td>False</td>\n",
       "    </tr>\n",
       "    <tr>\n",
       "      <th>2</th>\n",
       "      <td>42151</td>\n",
       "      <td>True</td>\n",
       "    </tr>\n",
       "    <tr>\n",
       "      <th>3</th>\n",
       "      <td>14944</td>\n",
       "      <td>False</td>\n",
       "    </tr>\n",
       "    <tr>\n",
       "      <th>4</th>\n",
       "      <td>13657</td>\n",
       "      <td>False</td>\n",
       "    </tr>\n",
       "    <tr>\n",
       "      <th>...</th>\n",
       "      <td>...</td>\n",
       "      <td>...</td>\n",
       "    </tr>\n",
       "    <tr>\n",
       "      <th>13559</th>\n",
       "      <td>43181</td>\n",
       "      <td>False</td>\n",
       "    </tr>\n",
       "    <tr>\n",
       "      <th>13560</th>\n",
       "      <td>37261</td>\n",
       "      <td>False</td>\n",
       "    </tr>\n",
       "    <tr>\n",
       "      <th>13561</th>\n",
       "      <td>39647</td>\n",
       "      <td>False</td>\n",
       "    </tr>\n",
       "    <tr>\n",
       "      <th>13562</th>\n",
       "      <td>11882</td>\n",
       "      <td>False</td>\n",
       "    </tr>\n",
       "    <tr>\n",
       "      <th>13563</th>\n",
       "      <td>53479</td>\n",
       "      <td>True</td>\n",
       "    </tr>\n",
       "  </tbody>\n",
       "</table>\n",
       "<p>13564 rows × 2 columns</p>\n",
       "</div>"
      ],
      "text/plain": [
       "       customer_id  is_subscribed\n",
       "0            22154          False\n",
       "1            31186          False\n",
       "2            42151           True\n",
       "3            14944          False\n",
       "4            13657          False\n",
       "...            ...            ...\n",
       "13559        43181          False\n",
       "13560        37261          False\n",
       "13561        39647          False\n",
       "13562        11882          False\n",
       "13563        53479           True\n",
       "\n",
       "[13564 rows x 2 columns]"
      ]
     },
     "execution_count": 159,
     "metadata": {},
     "output_type": "execute_result"
    }
   ],
   "source": [
    "submission"
   ]
  },
  {
   "cell_type": "code",
   "execution_count": null,
   "metadata": {},
   "outputs": [],
   "source": []
  }
 ],
 "metadata": {
  "kernelspec": {
   "display_name": "Python 3",
   "language": "python",
   "name": "python3"
  },
  "language_info": {
   "codemirror_mode": {
    "name": "ipython",
    "version": 3
   },
   "file_extension": ".py",
   "mimetype": "text/x-python",
   "name": "python",
   "nbconvert_exporter": "python",
   "pygments_lexer": "ipython3",
   "version": "3.8.5"
  }
 },
 "nbformat": 4,
 "nbformat_minor": 4
}
